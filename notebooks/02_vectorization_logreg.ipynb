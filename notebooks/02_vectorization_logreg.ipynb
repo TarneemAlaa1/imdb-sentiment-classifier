{
 "cells": [
  {
   "cell_type": "markdown",
   "id": "bf4aab14",
   "metadata": {},
   "source": [
    "# IMDb Sentiment Classifier: TF-IDF/ CountVectorizer + Logistic Regression\n",
    "This notebook builds a logistic regression model to classify IMDb movie reviews into positive or negative sentiments using TF-IDF vectorization of cleaned review text in comparison to using CountVectorizer"
   ]
  },
  {
   "cell_type": "markdown",
   "id": "819718a2",
   "metadata": {
    "vscode": {
     "languageId": "plaintext"
    }
   },
   "source": [
    "## Imports"
   ]
  },
  {
   "cell_type": "code",
   "execution_count": 1,
   "id": "c63e6e94",
   "metadata": {},
   "outputs": [],
   "source": [
    "import pandas as pd\n",
    "import numpy as np\n",
    "import seaborn as sns\n",
    "import matplotlib.pyplot as plt\n",
    "\n",
    "from sklearn.model_selection import train_test_split\n",
    "from sklearn.feature_extraction.text import TfidfVectorizer\n",
    "from sklearn.feature_extraction.text import CountVectorizer\n",
    "from sklearn.linear_model import LogisticRegression\n",
    "from sklearn.metrics import accuracy_score, classification_report, confusion_matrix, ConfusionMatrixDisplay"
   ]
  },
  {
   "cell_type": "markdown",
   "id": "19217f1f",
   "metadata": {},
   "source": [
    "## Load Cleaned Data"
   ]
  },
  {
   "cell_type": "code",
   "execution_count": 2,
   "id": "1b2d9bd2",
   "metadata": {},
   "outputs": [
    {
     "data": {
      "text/html": [
       "<div>\n",
       "<style scoped>\n",
       "    .dataframe tbody tr th:only-of-type {\n",
       "        vertical-align: middle;\n",
       "    }\n",
       "\n",
       "    .dataframe tbody tr th {\n",
       "        vertical-align: top;\n",
       "    }\n",
       "\n",
       "    .dataframe thead th {\n",
       "        text-align: right;\n",
       "    }\n",
       "</style>\n",
       "<table border=\"1\" class=\"dataframe\">\n",
       "  <thead>\n",
       "    <tr style=\"text-align: right;\">\n",
       "      <th></th>\n",
       "      <th>clean_review</th>\n",
       "      <th>sentiment</th>\n",
       "    </tr>\n",
       "  </thead>\n",
       "  <tbody>\n",
       "    <tr>\n",
       "      <th>0</th>\n",
       "      <td>one reviewers mentioned watching oz episode ho...</td>\n",
       "      <td>positive</td>\n",
       "    </tr>\n",
       "    <tr>\n",
       "      <th>1</th>\n",
       "      <td>wonderful little production filming technique ...</td>\n",
       "      <td>positive</td>\n",
       "    </tr>\n",
       "    <tr>\n",
       "      <th>2</th>\n",
       "      <td>thought wonderful way spend time hot summer we...</td>\n",
       "      <td>positive</td>\n",
       "    </tr>\n",
       "    <tr>\n",
       "      <th>3</th>\n",
       "      <td>basically family little boy jake thinks zombie...</td>\n",
       "      <td>negative</td>\n",
       "    </tr>\n",
       "    <tr>\n",
       "      <th>4</th>\n",
       "      <td>petter mattei love time money visually stunnin...</td>\n",
       "      <td>positive</td>\n",
       "    </tr>\n",
       "  </tbody>\n",
       "</table>\n",
       "</div>"
      ],
      "text/plain": [
       "                                        clean_review sentiment\n",
       "0  one reviewers mentioned watching oz episode ho...  positive\n",
       "1  wonderful little production filming technique ...  positive\n",
       "2  thought wonderful way spend time hot summer we...  positive\n",
       "3  basically family little boy jake thinks zombie...  negative\n",
       "4  petter mattei love time money visually stunnin...  positive"
      ]
     },
     "execution_count": 2,
     "metadata": {},
     "output_type": "execute_result"
    }
   ],
   "source": [
    "# Load the cleaned data that we did in 01_eda_preprocessing.ipynb\n",
    "imdb_data_df = pd.read_csv('../data/imdb_clean.csv')\n",
    "imdb_data_df.head()"
   ]
  },
  {
   "cell_type": "markdown",
   "id": "e3564134",
   "metadata": {},
   "source": [
    "## Encoding Labels & Splitting the Data"
   ]
  },
  {
   "cell_type": "code",
   "execution_count": 3,
   "id": "14165542",
   "metadata": {},
   "outputs": [
    {
     "data": {
      "text/html": [
       "<div>\n",
       "<style scoped>\n",
       "    .dataframe tbody tr th:only-of-type {\n",
       "        vertical-align: middle;\n",
       "    }\n",
       "\n",
       "    .dataframe tbody tr th {\n",
       "        vertical-align: top;\n",
       "    }\n",
       "\n",
       "    .dataframe thead th {\n",
       "        text-align: right;\n",
       "    }\n",
       "</style>\n",
       "<table border=\"1\" class=\"dataframe\">\n",
       "  <thead>\n",
       "    <tr style=\"text-align: right;\">\n",
       "      <th></th>\n",
       "      <th>clean_review</th>\n",
       "      <th>sentiment</th>\n",
       "      <th>label</th>\n",
       "    </tr>\n",
       "  </thead>\n",
       "  <tbody>\n",
       "    <tr>\n",
       "      <th>0</th>\n",
       "      <td>one reviewers mentioned watching oz episode ho...</td>\n",
       "      <td>positive</td>\n",
       "      <td>1</td>\n",
       "    </tr>\n",
       "    <tr>\n",
       "      <th>1</th>\n",
       "      <td>wonderful little production filming technique ...</td>\n",
       "      <td>positive</td>\n",
       "      <td>1</td>\n",
       "    </tr>\n",
       "    <tr>\n",
       "      <th>2</th>\n",
       "      <td>thought wonderful way spend time hot summer we...</td>\n",
       "      <td>positive</td>\n",
       "      <td>1</td>\n",
       "    </tr>\n",
       "    <tr>\n",
       "      <th>3</th>\n",
       "      <td>basically family little boy jake thinks zombie...</td>\n",
       "      <td>negative</td>\n",
       "      <td>0</td>\n",
       "    </tr>\n",
       "    <tr>\n",
       "      <th>4</th>\n",
       "      <td>petter mattei love time money visually stunnin...</td>\n",
       "      <td>positive</td>\n",
       "      <td>1</td>\n",
       "    </tr>\n",
       "    <tr>\n",
       "      <th>...</th>\n",
       "      <td>...</td>\n",
       "      <td>...</td>\n",
       "      <td>...</td>\n",
       "    </tr>\n",
       "    <tr>\n",
       "      <th>49995</th>\n",
       "      <td>thought movie right good job creative original...</td>\n",
       "      <td>positive</td>\n",
       "      <td>1</td>\n",
       "    </tr>\n",
       "    <tr>\n",
       "      <th>49996</th>\n",
       "      <td>bad plot bad dialogue bad acting idiotic direc...</td>\n",
       "      <td>negative</td>\n",
       "      <td>0</td>\n",
       "    </tr>\n",
       "    <tr>\n",
       "      <th>49997</th>\n",
       "      <td>catholic taught parochial elementary schools n...</td>\n",
       "      <td>negative</td>\n",
       "      <td>0</td>\n",
       "    </tr>\n",
       "    <tr>\n",
       "      <th>49998</th>\n",
       "      <td>going disagree previous comment side maltin on...</td>\n",
       "      <td>negative</td>\n",
       "      <td>0</td>\n",
       "    </tr>\n",
       "    <tr>\n",
       "      <th>49999</th>\n",
       "      <td>one expects star trek movies high art fans exp...</td>\n",
       "      <td>negative</td>\n",
       "      <td>0</td>\n",
       "    </tr>\n",
       "  </tbody>\n",
       "</table>\n",
       "<p>50000 rows × 3 columns</p>\n",
       "</div>"
      ],
      "text/plain": [
       "                                            clean_review sentiment  label\n",
       "0      one reviewers mentioned watching oz episode ho...  positive      1\n",
       "1      wonderful little production filming technique ...  positive      1\n",
       "2      thought wonderful way spend time hot summer we...  positive      1\n",
       "3      basically family little boy jake thinks zombie...  negative      0\n",
       "4      petter mattei love time money visually stunnin...  positive      1\n",
       "...                                                  ...       ...    ...\n",
       "49995  thought movie right good job creative original...  positive      1\n",
       "49996  bad plot bad dialogue bad acting idiotic direc...  negative      0\n",
       "49997  catholic taught parochial elementary schools n...  negative      0\n",
       "49998  going disagree previous comment side maltin on...  negative      0\n",
       "49999  one expects star trek movies high art fans exp...  negative      0\n",
       "\n",
       "[50000 rows x 3 columns]"
      ]
     },
     "execution_count": 3,
     "metadata": {},
     "output_type": "execute_result"
    }
   ],
   "source": [
    "# Encoding labels to be 0 & 1 such that 1 represents positive and 0 represents negative\n",
    "imdb_data_df['label'] = imdb_data_df['sentiment'].map({'positive':1, 'negative':0})\n",
    "imdb_data_df"
   ]
  },
  {
   "cell_type": "code",
   "execution_count": 4,
   "id": "ab5484bc",
   "metadata": {},
   "outputs": [
    {
     "name": "stdout",
     "output_type": "stream",
     "text": [
      "Feature: one reviewers mentioned watching oz episode hooked right exactly happened first thing struck oz brutality unflinching scenes violence set right word go trust show faint hearted timid show pulls punches regards drugs sex violence hardcore classic use word called oz nickname given oswald maximum security state penitentary focuses mainly emerald city experimental section prison cells glass fronts face inwards privacy high agenda em city home many aryans muslims gangstas latinos christians italians irish scuffles death stares dodgy dealings shady agreements never far away would say main appeal show due fact goes shows dare forget pretty pictures painted mainstream audiences forget charm forget romance oz mess around first episode ever saw struck nasty surreal say ready watched developed taste oz got accustomed high levels graphic violence violence injustice crooked guards sold nickel inmates kill order get away well mannered middle class inmates turned prison bitches due lack street skills prison experience watching oz may become comfortable uncomfortable viewing thats get touch darker side\n",
      "Label: 1\n"
     ]
    }
   ],
   "source": [
    "# Setting the Features and labels to X and y\n",
    "X = imdb_data_df['clean_review']\n",
    "y = imdb_data_df['label']\n",
    "\n",
    "# Showing an example\n",
    "print(\"Feature:\", X[0])\n",
    "print(\"Label:\", y[0])"
   ]
  },
  {
   "cell_type": "code",
   "execution_count": 5,
   "id": "39ad5e59",
   "metadata": {},
   "outputs": [
    {
     "name": "stdout",
     "output_type": "stream",
     "text": [
      "Number of Training Samples: 40000\n",
      "Number of Testing Samples: 10000\n"
     ]
    }
   ],
   "source": [
    "# Splitting the data to Train-Test Split to be 80% Training data and 20% Testing data\n",
    "# We set stratify to keep the label distribution balanced in both sets to ensure no bias\n",
    "X_train, X_test, y_train, y_test = train_test_split(X, y, test_size=0.2, stratify=y, random_state=42)\n",
    "\n",
    "print(\"Number of Training Samples:\", len(X_train))\n",
    "print(\"Number of Testing Samples:\", len(X_test))"
   ]
  },
  {
   "cell_type": "markdown",
   "id": "a6ae6139",
   "metadata": {},
   "source": [
    "## Feature Extraction Using TF-IDF"
   ]
  },
  {
   "cell_type": "code",
   "execution_count": 6,
   "id": "71921a00",
   "metadata": {},
   "outputs": [
    {
     "name": "stdout",
     "output_type": "stream",
     "text": [
      "TF-IDF train shape: (40000, 10000)\n",
      "TF-IDF test shape: (10000, 10000)\n"
     ]
    }
   ],
   "source": [
    "# Initializing the TF-IDF Vectorizer\n",
    "tfidf = TfidfVectorizer(max_features=10000, ngram_range=(1,2))\n",
    "\n",
    "# We apply to train data to learn vocabulary & computes TF-IDF values for train set\n",
    "X_train_tfidf = tfidf.fit_transform(X_train)\n",
    "\n",
    "# We apply same vocabulary & weights to the test set\n",
    "X_test_tfidf = tfidf.transform(X_test)\n",
    "\n",
    "print(\"TF-IDF train shape:\", X_train_tfidf.shape)\n",
    "print(\"TF-IDF test shape:\", X_test_tfidf.shape)"
   ]
  },
  {
   "cell_type": "markdown",
   "id": "d18f5294",
   "metadata": {},
   "source": [
    "### Visualize TF-IDF"
   ]
  },
  {
   "cell_type": "code",
   "execution_count": 7,
   "id": "630ae26e",
   "metadata": {},
   "outputs": [
    {
     "data": {
      "text/html": [
       "<div>\n",
       "<style scoped>\n",
       "    .dataframe tbody tr th:only-of-type {\n",
       "        vertical-align: middle;\n",
       "    }\n",
       "\n",
       "    .dataframe tbody tr th {\n",
       "        vertical-align: top;\n",
       "    }\n",
       "\n",
       "    .dataframe thead th {\n",
       "        text-align: right;\n",
       "    }\n",
       "</style>\n",
       "<table border=\"1\" class=\"dataframe\">\n",
       "  <thead>\n",
       "    <tr style=\"text-align: right;\">\n",
       "      <th></th>\n",
       "      <th>term</th>\n",
       "      <th>score</th>\n",
       "    </tr>\n",
       "  </thead>\n",
       "  <tbody>\n",
       "    <tr>\n",
       "      <th>5682</th>\n",
       "      <td>movie</td>\n",
       "      <td>0.048938</td>\n",
       "    </tr>\n",
       "    <tr>\n",
       "      <th>3079</th>\n",
       "      <td>film</td>\n",
       "      <td>0.042130</td>\n",
       "    </tr>\n",
       "    <tr>\n",
       "      <th>6229</th>\n",
       "      <td>one</td>\n",
       "      <td>0.027954</td>\n",
       "    </tr>\n",
       "    <tr>\n",
       "      <th>4958</th>\n",
       "      <td>like</td>\n",
       "      <td>0.023682</td>\n",
       "    </tr>\n",
       "    <tr>\n",
       "      <th>3723</th>\n",
       "      <td>good</td>\n",
       "      <td>0.020860</td>\n",
       "    </tr>\n",
       "    <tr>\n",
       "      <th>7144</th>\n",
       "      <td>really</td>\n",
       "      <td>0.017681</td>\n",
       "    </tr>\n",
       "    <tr>\n",
       "      <th>8455</th>\n",
       "      <td>story</td>\n",
       "      <td>0.017563</td>\n",
       "    </tr>\n",
       "    <tr>\n",
       "      <th>8985</th>\n",
       "      <td>time</td>\n",
       "      <td>0.017512</td>\n",
       "    </tr>\n",
       "    <tr>\n",
       "      <th>9875</th>\n",
       "      <td>would</td>\n",
       "      <td>0.017479</td>\n",
       "    </tr>\n",
       "    <tr>\n",
       "      <th>7770</th>\n",
       "      <td>see</td>\n",
       "      <td>0.017246</td>\n",
       "    </tr>\n",
       "    <tr>\n",
       "      <th>2706</th>\n",
       "      <td>even</td>\n",
       "      <td>0.017110</td>\n",
       "    </tr>\n",
       "    <tr>\n",
       "      <th>626</th>\n",
       "      <td>bad</td>\n",
       "      <td>0.016477</td>\n",
       "    </tr>\n",
       "    <tr>\n",
       "      <th>3821</th>\n",
       "      <td>great</td>\n",
       "      <td>0.015670</td>\n",
       "    </tr>\n",
       "    <tr>\n",
       "      <th>9680</th>\n",
       "      <td>well</td>\n",
       "      <td>0.015644</td>\n",
       "    </tr>\n",
       "    <tr>\n",
       "      <th>6526</th>\n",
       "      <td>people</td>\n",
       "      <td>0.014566</td>\n",
       "    </tr>\n",
       "    <tr>\n",
       "      <th>5875</th>\n",
       "      <td>much</td>\n",
       "      <td>0.014463</td>\n",
       "    </tr>\n",
       "    <tr>\n",
       "      <th>5855</th>\n",
       "      <td>movies</td>\n",
       "      <td>0.014240</td>\n",
       "    </tr>\n",
       "    <tr>\n",
       "      <th>3586</th>\n",
       "      <td>get</td>\n",
       "      <td>0.014055</td>\n",
       "    </tr>\n",
       "    <tr>\n",
       "      <th>3279</th>\n",
       "      <td>first</td>\n",
       "      <td>0.013502</td>\n",
       "    </tr>\n",
       "    <tr>\n",
       "      <th>270</th>\n",
       "      <td>also</td>\n",
       "      <td>0.013348</td>\n",
       "    </tr>\n",
       "    <tr>\n",
       "      <th>9604</th>\n",
       "      <td>watch</td>\n",
       "      <td>0.013307</td>\n",
       "    </tr>\n",
       "    <tr>\n",
       "      <th>5216</th>\n",
       "      <td>made</td>\n",
       "      <td>0.013268</td>\n",
       "    </tr>\n",
       "    <tr>\n",
       "      <th>1783</th>\n",
       "      <td>could</td>\n",
       "      <td>0.012942</td>\n",
       "    </tr>\n",
       "    <tr>\n",
       "      <th>8895</th>\n",
       "      <td>think</td>\n",
       "      <td>0.012815</td>\n",
       "    </tr>\n",
       "    <tr>\n",
       "      <th>7994</th>\n",
       "      <td>show</td>\n",
       "      <td>0.012762</td>\n",
       "    </tr>\n",
       "    <tr>\n",
       "      <th>5258</th>\n",
       "      <td>make</td>\n",
       "      <td>0.012693</td>\n",
       "    </tr>\n",
       "    <tr>\n",
       "      <th>7808</th>\n",
       "      <td>seen</td>\n",
       "      <td>0.012604</td>\n",
       "    </tr>\n",
       "    <tr>\n",
       "      <th>1327</th>\n",
       "      <td>characters</td>\n",
       "      <td>0.012574</td>\n",
       "    </tr>\n",
       "    <tr>\n",
       "      <th>9634</th>\n",
       "      <td>way</td>\n",
       "      <td>0.012450</td>\n",
       "    </tr>\n",
       "    <tr>\n",
       "      <th>68</th>\n",
       "      <td>acting</td>\n",
       "      <td>0.012384</td>\n",
       "    </tr>\n",
       "  </tbody>\n",
       "</table>\n",
       "</div>"
      ],
      "text/plain": [
       "            term     score\n",
       "5682       movie  0.048938\n",
       "3079        film  0.042130\n",
       "6229         one  0.027954\n",
       "4958        like  0.023682\n",
       "3723        good  0.020860\n",
       "7144      really  0.017681\n",
       "8455       story  0.017563\n",
       "8985        time  0.017512\n",
       "9875       would  0.017479\n",
       "7770         see  0.017246\n",
       "2706        even  0.017110\n",
       "626          bad  0.016477\n",
       "3821       great  0.015670\n",
       "9680        well  0.015644\n",
       "6526      people  0.014566\n",
       "5875        much  0.014463\n",
       "5855      movies  0.014240\n",
       "3586         get  0.014055\n",
       "3279       first  0.013502\n",
       "270         also  0.013348\n",
       "9604       watch  0.013307\n",
       "5216        made  0.013268\n",
       "1783       could  0.012942\n",
       "8895       think  0.012815\n",
       "7994        show  0.012762\n",
       "5258        make  0.012693\n",
       "7808        seen  0.012604\n",
       "1327  characters  0.012574\n",
       "9634         way  0.012450\n",
       "68        acting  0.012384"
      ]
     },
     "execution_count": 7,
     "metadata": {},
     "output_type": "execute_result"
    }
   ],
   "source": [
    "# Getting the feature names\n",
    "feature_names = tfidf.get_feature_names_out()\n",
    "\n",
    "# Getting the average TF-IDF score across all\n",
    "avg_tfidf_scores = X_train_tfidf.mean(axis=0).A1 \n",
    "\n",
    "# Creating a dataframe with the term and score\n",
    "tfidf_df = pd.DataFrame({'term': feature_names, 'score': avg_tfidf_scores})\n",
    "\n",
    "# Viewing top 30 terms\n",
    "top_30_terms = tfidf_df.sort_values(by='score', ascending=False).head(30)\n",
    "top_30_terms\n"
   ]
  },
  {
   "cell_type": "code",
   "execution_count": 8,
   "id": "52126aa4",
   "metadata": {},
   "outputs": [
    {
     "data": {
      "image/png": "[encoded data removed]",
      "text/plain": [
       "<Figure size 1200x600 with 1 Axes>"
      ]
     },
     "metadata": {},
     "output_type": "display_data"
    }
   ],
   "source": [
    "# Plotting top 30 terms\n",
    "plt.figure(figsize=(12,6))\n",
    "plt.barh(top_30_terms['term'][::-1], top_30_terms['score'][::-1])\n",
    "plt.title(\"Top 30 Terms by Avg TF-IDF Score (Train Set)\")\n",
    "plt.xlabel(\"TF-IDF Score\")\n",
    "plt.ylabel(\"Term\")\n",
    "plt.show()"
   ]
  },
  {
   "cell_type": "markdown",
   "id": "a443ec76",
   "metadata": {},
   "source": [
    "## Logistic Regression Model on TF-IDF Data"
   ]
  },
  {
   "cell_type": "markdown",
   "id": "9b734719",
   "metadata": {},
   "source": [
    "### Training the LR Model"
   ]
  },
  {
   "cell_type": "code",
   "execution_count": 9,
   "id": "8b046d25",
   "metadata": {},
   "outputs": [
    {
     "name": "stdout",
     "output_type": "stream",
     "text": [
      "Training Accuracy: 0.9240\n",
      "Training Accuracy Percentage: 92.40 %\n"
     ]
    }
   ],
   "source": [
    "# Initializing the Logistic Regression Model\n",
    "lr = LogisticRegression(\n",
    "    max_iter=1000,\n",
    "    random_state=42\n",
    ")\n",
    "\n",
    "# Training the model on our train set with tf-idf applied\n",
    "lr.fit(X_train_tfidf, y_train)\n",
    "\n",
    "# Checking the training accuracy\n",
    "train_acc = lr.score(X_train_tfidf, y_train)\n",
    "print(f\"Training Accuracy: {train_acc:.4f}\")\n",
    "print(f\"Training Accuracy Percentage: {train_acc*100:.2f} %\")"
   ]
  },
  {
   "cell_type": "markdown",
   "id": "09abbba9",
   "metadata": {},
   "source": [
    "### Testing on the Test Set"
   ]
  },
  {
   "cell_type": "code",
   "execution_count": 10,
   "id": "1184aa73",
   "metadata": {},
   "outputs": [
    {
     "name": "stdout",
     "output_type": "stream",
     "text": [
      "Test Accuracy: 0.8983\n",
      "Test Accuracy Percentage: 89.83 %\n"
     ]
    }
   ],
   "source": [
    "# Predicting on the test set\n",
    "y_pred = lr.predict(X_test_tfidf)\n",
    "\n",
    "# Test accuracy\n",
    "test_acc = accuracy_score(y_test, y_pred)\n",
    "print(f\"Test Accuracy: {test_acc:.4f}\")\n",
    "print(f\"Test Accuracy Percentage: {test_acc*100:.2f} %\")"
   ]
  },
  {
   "cell_type": "code",
   "execution_count": 11,
   "id": "fb66205d",
   "metadata": {},
   "outputs": [
    {
     "name": "stdout",
     "output_type": "stream",
     "text": [
      "\n",
      "Classification Report:\n",
      "              precision    recall  f1-score   support\n",
      "\n",
      "           0       0.90      0.89      0.90      5000\n",
      "           1       0.89      0.91      0.90      5000\n",
      "\n",
      "    accuracy                           0.90     10000\n",
      "   macro avg       0.90      0.90      0.90     10000\n",
      "weighted avg       0.90      0.90      0.90     10000\n",
      "\n",
      "\n",
      "Confusion Matrix:\n",
      "[[4451  549]\n",
      " [ 468 4532]]\n"
     ]
    }
   ],
   "source": [
    "# Full report\n",
    "print(\"\\nClassification Report:\")\n",
    "print(classification_report(y_test, y_pred))\n",
    "\n",
    "print(\"\\nConfusion Matrix:\")\n",
    "print(confusion_matrix(y_test, y_pred))"
   ]
  },
  {
   "cell_type": "code",
   "execution_count": 12,
   "id": "d92e08c6",
   "metadata": {},
   "outputs": [
    {
     "data": {
      "image/png": "[encoded data removed]",
      "text/plain": [
       "<Figure size 600x500 with 2 Axes>"
      ]
     },
     "metadata": {},
     "output_type": "display_data"
    }
   ],
   "source": [
    "cm = confusion_matrix(y_test, y_pred)\n",
    "labels = ['Negative', 'Positive']\n",
    "\n",
    "plt.figure(figsize=(6,5))\n",
    "sns.heatmap(cm, annot=True, fmt='d', cmap='Blues', xticklabels=labels, yticklabels=labels)\n",
    "plt.xlabel('Predicted Label')\n",
    "plt.ylabel('True Label')\n",
    "plt.title('Confusion Matrix - IMDb Sentiment Classifier')\n",
    "plt.show()"
   ]
  },
  {
   "cell_type": "markdown",
   "id": "99b2812f",
   "metadata": {},
   "source": [
    "### Examples"
   ]
  },
  {
   "cell_type": "code",
   "execution_count": 13,
   "id": "96b6dcbe",
   "metadata": {},
   "outputs": [
    {
     "name": "stdout",
     "output_type": "stream",
     "text": [
      "Positive\n",
      "Negative\n",
      "Negative\n"
     ]
    }
   ],
   "source": [
    "def predict_sentiment(text):\n",
    "    vectorized = tfidf.transform([text])\n",
    "    prediction = lr.predict(vectorized)[0]\n",
    "    return \"Positive\" if prediction == 1 else \"Negative\"\n",
    "\n",
    "print(predict_sentiment(\"the movie was surprisingly amazing\"))\n",
    "print(predict_sentiment(\"this was the worst movie ever\"))\n",
    "print(predict_sentiment(\"i don't like this movie at all\"))"
   ]
  },
  {
   "cell_type": "markdown",
   "id": "937417ec",
   "metadata": {},
   "source": [
    "## Feature Extraction Using CountVectorizer"
   ]
  },
  {
   "cell_type": "code",
   "execution_count": 14,
   "id": "a7bebf3c",
   "metadata": {},
   "outputs": [
    {
     "name": "stdout",
     "output_type": "stream",
     "text": [
      "CountVectorizer train shape: (40000, 10000)\n",
      "CountVectorizer test shape: (10000, 10000)\n"
     ]
    }
   ],
   "source": [
    "# Initialize CountVectorizer\n",
    "count_vectorizer = CountVectorizer(max_features=10000, ngram_range=(1,2))\n",
    "\n",
    "# We apply to train data to learn vocabulary & computes CountVectorizer values for train set\n",
    "X_train_count = count_vectorizer.fit_transform(X_train)\n",
    "\n",
    "# We apply same vocabulary & weights to the test set\n",
    "X_test_count = count_vectorizer.transform(X_test)\n",
    "\n",
    "print(\"CountVectorizer train shape:\", X_train_count.shape)\n",
    "print(\"CountVectorizer test shape:\", X_test_count.shape)"
   ]
  },
  {
   "cell_type": "markdown",
   "id": "77fb8f03",
   "metadata": {},
   "source": [
    "### Visualize CountVectorizer"
   ]
  },
  {
   "cell_type": "code",
   "execution_count": 15,
   "id": "e24fb810",
   "metadata": {},
   "outputs": [
    {
     "data": {
      "text/html": [
       "<div>\n",
       "<style scoped>\n",
       "    .dataframe tbody tr th:only-of-type {\n",
       "        vertical-align: middle;\n",
       "    }\n",
       "\n",
       "    .dataframe tbody tr th {\n",
       "        vertical-align: top;\n",
       "    }\n",
       "\n",
       "    .dataframe thead th {\n",
       "        text-align: right;\n",
       "    }\n",
       "</style>\n",
       "<table border=\"1\" class=\"dataframe\">\n",
       "  <thead>\n",
       "    <tr style=\"text-align: right;\">\n",
       "      <th></th>\n",
       "      <th>term</th>\n",
       "      <th>frequency</th>\n",
       "    </tr>\n",
       "  </thead>\n",
       "  <tbody>\n",
       "    <tr>\n",
       "      <th>5682</th>\n",
       "      <td>movie</td>\n",
       "      <td>70374</td>\n",
       "    </tr>\n",
       "    <tr>\n",
       "      <th>3079</th>\n",
       "      <td>film</td>\n",
       "      <td>64040</td>\n",
       "    </tr>\n",
       "    <tr>\n",
       "      <th>6229</th>\n",
       "      <td>one</td>\n",
       "      <td>42952</td>\n",
       "    </tr>\n",
       "    <tr>\n",
       "      <th>4958</th>\n",
       "      <td>like</td>\n",
       "      <td>31952</td>\n",
       "    </tr>\n",
       "    <tr>\n",
       "      <th>3723</th>\n",
       "      <td>good</td>\n",
       "      <td>23826</td>\n",
       "    </tr>\n",
       "    <tr>\n",
       "      <th>8985</th>\n",
       "      <td>time</td>\n",
       "      <td>20098</td>\n",
       "    </tr>\n",
       "    <tr>\n",
       "      <th>2706</th>\n",
       "      <td>even</td>\n",
       "      <td>19827</td>\n",
       "    </tr>\n",
       "    <tr>\n",
       "      <th>9875</th>\n",
       "      <td>would</td>\n",
       "      <td>19726</td>\n",
       "    </tr>\n",
       "    <tr>\n",
       "      <th>7144</th>\n",
       "      <td>really</td>\n",
       "      <td>18544</td>\n",
       "    </tr>\n",
       "    <tr>\n",
       "      <th>7770</th>\n",
       "      <td>see</td>\n",
       "      <td>18460</td>\n",
       "    </tr>\n",
       "    <tr>\n",
       "      <th>8455</th>\n",
       "      <td>story</td>\n",
       "      <td>18456</td>\n",
       "    </tr>\n",
       "    <tr>\n",
       "      <th>9680</th>\n",
       "      <td>well</td>\n",
       "      <td>16940</td>\n",
       "    </tr>\n",
       "    <tr>\n",
       "      <th>5875</th>\n",
       "      <td>much</td>\n",
       "      <td>15409</td>\n",
       "    </tr>\n",
       "    <tr>\n",
       "      <th>626</th>\n",
       "      <td>bad</td>\n",
       "      <td>14863</td>\n",
       "    </tr>\n",
       "    <tr>\n",
       "      <th>3586</th>\n",
       "      <td>get</td>\n",
       "      <td>14686</td>\n",
       "    </tr>\n",
       "    <tr>\n",
       "      <th>6526</th>\n",
       "      <td>people</td>\n",
       "      <td>14504</td>\n",
       "    </tr>\n",
       "    <tr>\n",
       "      <th>270</th>\n",
       "      <td>also</td>\n",
       "      <td>14491</td>\n",
       "    </tr>\n",
       "    <tr>\n",
       "      <th>3821</th>\n",
       "      <td>great</td>\n",
       "      <td>14435</td>\n",
       "    </tr>\n",
       "    <tr>\n",
       "      <th>3279</th>\n",
       "      <td>first</td>\n",
       "      <td>14059</td>\n",
       "    </tr>\n",
       "    <tr>\n",
       "      <th>5216</th>\n",
       "      <td>made</td>\n",
       "      <td>12924</td>\n",
       "    </tr>\n",
       "    <tr>\n",
       "      <th>5258</th>\n",
       "      <td>make</td>\n",
       "      <td>12660</td>\n",
       "    </tr>\n",
       "    <tr>\n",
       "      <th>9634</th>\n",
       "      <td>way</td>\n",
       "      <td>12509</td>\n",
       "    </tr>\n",
       "    <tr>\n",
       "      <th>1783</th>\n",
       "      <td>could</td>\n",
       "      <td>12447</td>\n",
       "    </tr>\n",
       "    <tr>\n",
       "      <th>5855</th>\n",
       "      <td>movies</td>\n",
       "      <td>12275</td>\n",
       "    </tr>\n",
       "    <tr>\n",
       "      <th>1327</th>\n",
       "      <td>characters</td>\n",
       "      <td>11649</td>\n",
       "    </tr>\n",
       "    <tr>\n",
       "      <th>8895</th>\n",
       "      <td>think</td>\n",
       "      <td>11536</td>\n",
       "    </tr>\n",
       "    <tr>\n",
       "      <th>9604</th>\n",
       "      <td>watch</td>\n",
       "      <td>11129</td>\n",
       "    </tr>\n",
       "    <tr>\n",
       "      <th>1312</th>\n",
       "      <td>character</td>\n",
       "      <td>11113</td>\n",
       "    </tr>\n",
       "    <tr>\n",
       "      <th>3238</th>\n",
       "      <td>films</td>\n",
       "      <td>11016</td>\n",
       "    </tr>\n",
       "    <tr>\n",
       "      <th>9238</th>\n",
       "      <td>two</td>\n",
       "      <td>10882</td>\n",
       "    </tr>\n",
       "  </tbody>\n",
       "</table>\n",
       "</div>"
      ],
      "text/plain": [
       "            term  frequency\n",
       "5682       movie      70374\n",
       "3079        film      64040\n",
       "6229         one      42952\n",
       "4958        like      31952\n",
       "3723        good      23826\n",
       "8985        time      20098\n",
       "2706        even      19827\n",
       "9875       would      19726\n",
       "7144      really      18544\n",
       "7770         see      18460\n",
       "8455       story      18456\n",
       "9680        well      16940\n",
       "5875        much      15409\n",
       "626          bad      14863\n",
       "3586         get      14686\n",
       "6526      people      14504\n",
       "270         also      14491\n",
       "3821       great      14435\n",
       "3279       first      14059\n",
       "5216        made      12924\n",
       "5258        make      12660\n",
       "9634         way      12509\n",
       "1783       could      12447\n",
       "5855      movies      12275\n",
       "1327  characters      11649\n",
       "8895       think      11536\n",
       "9604       watch      11129\n",
       "1312   character      11113\n",
       "3238       films      11016\n",
       "9238         two      10882"
      ]
     },
     "execution_count": 15,
     "metadata": {},
     "output_type": "execute_result"
    }
   ],
   "source": [
    "# Getting the feature names\n",
    "feature_names = count_vectorizer.get_feature_names_out()\n",
    "\n",
    "# Summing frequencies core across all\n",
    "term_frequencies = X_train_count.sum(axis=0).A1  \n",
    "\n",
    "# Creating a dataframe with the term and score\n",
    "count_df = pd.DataFrame({'term': feature_names, 'frequency': term_frequencies})\n",
    "\n",
    "# Viewing top 30 terms\n",
    "top_30_count = count_df.sort_values(by='frequency', ascending=False).head(30)\n",
    "top_30_count\n"
   ]
  },
  {
   "cell_type": "code",
   "execution_count": 16,
   "id": "4d096137",
   "metadata": {},
   "outputs": [
    {
     "data": {
      "image/png": "[encoded data removed]",
      "text/plain": [
       "<Figure size 1200x600 with 1 Axes>"
      ]
     },
     "metadata": {},
     "output_type": "display_data"
    }
   ],
   "source": [
    "# Plotting\n",
    "plt.figure(figsize=(12,6))\n",
    "plt.barh(top_30_count['term'][::-1], top_30_count['frequency'][::-1], color='orange')\n",
    "plt.title(\"Top 30 Terms by Frequency (CountVectorizer)\")\n",
    "plt.xlabel(\"Frequency\")\n",
    "plt.ylabel(\"Term\")\n",
    "plt.tight_layout()\n",
    "plt.show()"
   ]
  },
  {
   "cell_type": "markdown",
   "id": "8ee45ace",
   "metadata": {},
   "source": [
    "## Logistic Regression Model on CountVectorizer Data"
   ]
  },
  {
   "cell_type": "markdown",
   "id": "fbfafb66",
   "metadata": {},
   "source": [
    "### Training the LR Model"
   ]
  },
  {
   "cell_type": "code",
   "execution_count": 17,
   "id": "0d0284da",
   "metadata": {},
   "outputs": [
    {
     "name": "stdout",
     "output_type": "stream",
     "text": [
      "Training Accuracy: 0.9808\n",
      "Training Accuracy Percentage: 98.08 %\n"
     ]
    }
   ],
   "source": [
    "# Initializing the Logistic Regression Model\n",
    "lr_count = LogisticRegression(\n",
    "    max_iter=1000,\n",
    "    random_state=42\n",
    ")\n",
    "\n",
    "# Training the model on our train set with tf-idf applied\n",
    "lr_count.fit(X_train_count, y_train)\n",
    "\n",
    "# Checking the training accuracy\n",
    "train_acc_count = lr_count.score(X_train_count, y_train)\n",
    "print(f\"Training Accuracy: {train_acc_count:.4f}\")\n",
    "print(f\"Training Accuracy Percentage: {train_acc_count*100:.2f} %\")"
   ]
  },
  {
   "cell_type": "markdown",
   "id": "b6447d55",
   "metadata": {},
   "source": [
    "### Testing on Test Set"
   ]
  },
  {
   "cell_type": "code",
   "execution_count": 18,
   "id": "64f4e246",
   "metadata": {},
   "outputs": [
    {
     "name": "stdout",
     "output_type": "stream",
     "text": [
      "Test Accuracy: 0.8782\n",
      "Test Accuracy Percentage: 87.82 %\n"
     ]
    }
   ],
   "source": [
    "# Predicting on the test set\n",
    "y_pred_count = lr_count.predict(X_test_count)\n",
    "\n",
    "# Test accuracy\n",
    "test_acc_count = accuracy_score(y_test, y_pred_count)\n",
    "print(f\"Test Accuracy: {test_acc_count:.4f}\")\n",
    "print(f\"Test Accuracy Percentage: {test_acc_count*100:.2f} %\")"
   ]
  },
  {
   "cell_type": "code",
   "execution_count": 19,
   "id": "c47afa24",
   "metadata": {},
   "outputs": [
    {
     "name": "stdout",
     "output_type": "stream",
     "text": [
      "\n",
      "Classification Report:\n",
      "              precision    recall  f1-score   support\n",
      "\n",
      "           0       0.88      0.88      0.88      5000\n",
      "           1       0.88      0.88      0.88      5000\n",
      "\n",
      "    accuracy                           0.88     10000\n",
      "   macro avg       0.88      0.88      0.88     10000\n",
      "weighted avg       0.88      0.88      0.88     10000\n",
      "\n",
      "\n",
      "Confusion Matrix:\n",
      "[[4389  611]\n",
      " [ 607 4393]]\n"
     ]
    }
   ],
   "source": [
    "# Full report\n",
    "print(\"\\nClassification Report:\")\n",
    "print(classification_report(y_test, y_pred_count))\n",
    "\n",
    "print(\"\\nConfusion Matrix:\")\n",
    "print(confusion_matrix(y_test, y_pred_count))"
   ]
  },
  {
   "cell_type": "code",
   "execution_count": 20,
   "id": "2050f0ee",
   "metadata": {},
   "outputs": [
    {
     "data": {
      "image/png": "[encoded data removed]",
      "text/plain": [
       "<Figure size 600x500 with 2 Axes>"
      ]
     },
     "metadata": {},
     "output_type": "display_data"
    }
   ],
   "source": [
    "cm = confusion_matrix(y_test, y_pred_count)\n",
    "labels = ['Negative', 'Positive']\n",
    "\n",
    "plt.figure(figsize=(6,5))\n",
    "sns.heatmap(cm, annot=True, fmt='d', cmap='Blues', xticklabels=labels, yticklabels=labels)\n",
    "plt.xlabel('Predicted Label')\n",
    "plt.ylabel('True Label')\n",
    "plt.title('Confusion Matrix - IMDb Sentiment Classifier')\n",
    "plt.show()"
   ]
  },
  {
   "cell_type": "markdown",
   "id": "0d101a7d",
   "metadata": {},
   "source": [
    "### Examples"
   ]
  },
  {
   "cell_type": "code",
   "execution_count": 21,
   "id": "beb7e3e4",
   "metadata": {},
   "outputs": [
    {
     "name": "stdout",
     "output_type": "stream",
     "text": [
      "Positive\n",
      "Negative\n",
      "Negative\n"
     ]
    }
   ],
   "source": [
    "def predict_sentiment_count(text):\n",
    "    vectorized = count_vectorizer.transform([text])\n",
    "    prediction = lr_count.predict(vectorized)[0]\n",
    "    return \"Positive\" if prediction == 1 else \"Negative\"\n",
    "\n",
    "print(predict_sentiment(\"the movie was surprisingly amazing\"))\n",
    "print(predict_sentiment(\"this was the worst movie ever\"))\n",
    "print(predict_sentiment(\"i don't like this movie at all\"))"
   ]
  },
  {
   "cell_type": "markdown",
   "id": "ed81b4e0",
   "metadata": {},
   "source": [
    "## Comparison "
   ]
  },
  {
   "cell_type": "code",
   "execution_count": 22,
   "id": "ffaf3909",
   "metadata": {},
   "outputs": [
    {
     "name": "stdout",
     "output_type": "stream",
     "text": [
      "Comparison of Model Performance:\n",
      "\n",
      "Metric              TF-IDF         CountVectorizer\n",
      "Training Accuracy   92.40%             98.08%\n",
      "Test Accuracy       89.83%             87.82%\n"
     ]
    }
   ],
   "source": [
    "print(\"Comparison of Model Performance:\\n\")\n",
    "print(f\"{'Metric':<20}{'TF-IDF':<15}{'CountVectorizer'}\")\n",
    "print(f\"{'Training Accuracy':<20}{train_acc*100:.2f}%{'':<13}{train_acc_count*100:.2f}%\")\n",
    "print(f\"{'Test Accuracy':<20}{test_acc*100:.2f}%{'':<13}{test_acc_count*100:.2f}%\")"
   ]
  },
  {
   "cell_type": "markdown",
   "id": "d5da2f5e",
   "metadata": {},
   "source": [
    "- CountVectorizer has higher training accuracy, but this is often a red flag for overfitting. It memorized patterns from training data too well but failed to generalize as well on unseen data.\n",
    "\n",
    "- TF-IDF has better test accuracy — meaning it generalizes better. This is expected, as TF-IDF down-weights common terms and focuses on more meaningful, rare ones."
   ]
  }
 ],
 "metadata": {
  "kernelspec": {
   "display_name": "NLP",
   "language": "python",
   "name": "python3"
  },
  "language_info": {
   "codemirror_mode": {
    "name": "ipython",
    "version": 3
   },
   "file_extension": ".py",
   "mimetype": "text/x-python",
   "name": "python",
   "nbconvert_exporter": "python",
   "pygments_lexer": "ipython3",
   "version": "3.12.5"
  }
 },
 "nbformat": 4,
 "nbformat_minor": 5
}
