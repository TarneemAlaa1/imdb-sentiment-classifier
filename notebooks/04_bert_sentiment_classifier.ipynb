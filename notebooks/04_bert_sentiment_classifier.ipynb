{
  "cells": [
    {
      "cell_type": "markdown",
      "id": "07c9ca89",
      "metadata": {
        "id": "07c9ca89"
      },
      "source": [
        "# IMDb Sentiment Classifier: BERT\n",
        "This notebook builds a sentiment classifier using BERT on the IMDb Movie Review Dataset.\n",
        "We’ll classify reviews as positive or negative using a pretrained transformer model `bert-base-uncased`"
      ]
    },
    {
      "cell_type": "markdown",
      "id": "912a5f5b",
      "metadata": {
        "id": "912a5f5b"
      },
      "source": [
        "## Imports"
      ]
    },
    {
      "cell_type": "code",
      "execution_count": null,
      "id": "20d6f486",
      "metadata": {
        "id": "20d6f486"
      },
      "outputs": [],
      "source": [
        "import numpy as np\n",
        "import pandas as pd\n",
        "import matplotlib.pyplot as plt\n",
        "import seaborn as sns\n",
        "import time\n",
        "import random\n",
        "import os\n",
        "\n",
        "import torch\n",
        "import torch.nn as nn\n",
        "from torch.utils.data import Dataset, DataLoader\n",
        "from transformers import BertTokenizerFast as BertTokenizer\n",
        "from transformers import BertForSequenceClassification, get_scheduler\n",
        "from torch.optim import Adam, AdamW\n",
        "from sklearn.model_selection import train_test_split\n",
        "from sklearn.metrics import confusion_matrix, ConfusionMatrixDisplay, classification_report"
      ]
    },
    {
      "cell_type": "markdown",
      "id": "3e817b92",
      "metadata": {
        "id": "3e817b92"
      },
      "source": [
        "## Seeding"
      ]
    },
    {
      "cell_type": "code",
      "execution_count": 2,
      "id": "10708e33",
      "metadata": {
        "id": "10708e33"
      },
      "outputs": [],
      "source": [
        "def set_seed(seed=42):\n",
        "    random.seed(seed)\n",
        "    np.random.seed(seed)\n",
        "    torch.manual_seed(seed)\n",
        "    torch.cuda.manual_seed_all(seed)\n",
        "    torch.backends.cudnn.deterministic = True\n",
        "    torch.backends.cudnn.benchmark = False\n",
        "\n",
        "set_seed(42)"
      ]
    },
    {
      "cell_type": "markdown",
      "id": "41f38ba0",
      "metadata": {
        "id": "41f38ba0"
      },
      "source": [
        "## Load and Split Data\n",
        "We load the raw data without cleaning, as in the case of using BERT, we want the raw data unlike the classical ML models that needed the cleaned data.BERT handles raw text efficiently via tokenization.\n",
        "\n",
        "We split the dataset into train 70%, validation 15%, and test 15%"
      ]
    },
    {
      "cell_type": "code",
      "execution_count": 7,
      "id": "5d5db613",
      "metadata": {
        "colab": {
          "base_uri": "https://localhost:8080/",
          "height": 206
        },
        "id": "5d5db613",
        "outputId": "1c4206c8-02c3-44ad-80c2-0f52f272c7e6"
      },
      "outputs": [
        {
          "data": {
            "application/vnd.google.colaboratory.intrinsic+json": {
              "summary": "{\n  \"name\": \"imdb_reviews_df\",\n  \"rows\": 50000,\n  \"fields\": [\n    {\n      \"column\": \"review\",\n      \"properties\": {\n        \"dtype\": \"string\",\n        \"num_unique_values\": 49582,\n        \"samples\": [\n          \"\\\"Soul Plane\\\" is a horrible attempt at comedy that only should appeal people with thick skulls, bloodshot eyes and furry pawns. <br /><br />The plot is not only incoherent but also non-existent, acting is mostly sub sub-par with a gang of highly moronic and dreadful characters thrown in for bad measure, jokes are often spotted miles ahead and almost never even a bit amusing. This movie lacks any structure and is full of racial stereotypes that must have seemed old even in the fifties, the only thing it really has going for it is some pretty ladies, but really, if you want that you can rent something from the \\\"Adult\\\" section. OK?<br /><br />I can hardly see anything here to recommend since you'll probably have a lot a better and productive time chasing rats with a sledgehammer or inventing waterproof teabags or whatever.<br /><br />2/10\",\n          \"Guest from the Future tells a fascinating story of time travel, friendship, battle of good and evil -- all with a small budget, child actors, and few special effects. Something for Spielberg and Lucas to learn from. ;) A sixth-grader Kolya \\\"Nick\\\" Gerasimov finds a time machine in the basement of a decrepit building and travels 100 years into the future. He discovers a near-perfect, utopian society where robots play guitars and write poetry, everyone is kind to each other and people enjoy everything technology has to offer. Alice is the daughter of a prominent scientist who invented a device called Mielophone that allows to read minds of humans and animals. The device can be put to both good and bad use, depending on whose hands it falls into. When two evil space pirates from Saturn who want to rule the universe attempt to steal Mielophone, it falls into the hands of 20th century school boy Nick. With the pirates hot on his tracks, he travels back to his time, followed by the pirates, and Alice. Chaos, confusion and funny situations follow as the luckless pirates try to blend in with the earthlings. Alice enrolls in the same school Nick goes to and demonstrates superhuman abilities in PE class. The catch is, Alice doesn't know what Nick looks like, while the pirates do. Also, the pirates are able to change their appearance and turn literally into anyone. (Hmm, I wonder if this is where James Cameron got the idea for Terminator...) Who gets to Nick -- and Mielophone -- first? Excellent plot, non-stop adventures, and great soundtrack. I wish Hollywood made kid movies like this one...\",\n          \"\\\"National Treasure\\\" (2004) is a thoroughly misguided hodge-podge of plot entanglements that borrow from nearly every cloak and dagger government conspiracy clich\\u00e9 that has ever been written. The film stars Nicholas Cage as Benjamin Franklin Gates (how precious is that, I ask you?); a seemingly normal fellow who, for no other reason than being of a lineage of like-minded misguided fortune hunters, decides to steal a 'national treasure' that has been hidden by the United States founding fathers. After a bit of subtext and background that plays laughably (unintentionally) like Indiana Jones meets The Patriot, the film degenerates into one misguided whimsy after another \\u0096 attempting to create a 'Stanley Goodspeed' regurgitation of Nicholas Cage and launch the whole convoluted mess forward with a series of high octane, but disconnected misadventures.<br /><br />The relevancy and logic to having George Washington and his motley crew of patriots burying a king's ransom someplace on native soil, and then, going through the meticulous plan of leaving clues scattered throughout U.S. currency art work, is something that director Jon Turteltaub never quite gets around to explaining. Couldn't Washington found better usage for such wealth during the start up of the country? Hence, we are left with a mystery built on top of an enigma that is already on shaky ground by the time Ben appoints himself the new custodian of this untold wealth. Ben's intentions are noble \\u0096 if confusing. He's set on protecting the treasure. For who and when?\\u0085your guess is as good as mine.<br /><br />But there are a few problems with Ben's crusade. First up, his friend, Ian Holmes (Sean Bean) decides that he can't wait for Ben to make up his mind about stealing the Declaration of Independence from the National Archives (oh, yeah \\u0096 brilliant idea!). Presumably, the back of that famous document holds the secret answer to the ultimate fortune. So Ian tries to kill Ben. The assassination attempt is, of course, unsuccessful, if overly melodramatic. It also affords Ben the opportunity to pick up, and pick on, the very sultry curator of the archives, Abigail Chase (Diane Kruger). She thinks Ben is clearly a nut \\u0096 at least at the beginning. But true to action/romance form, Abby's resolve melts quicker than you can say, \\\"is that the Hope Diamond?\\\" The film moves into full X-File-ish mode, as the FBI, mistakenly believing that Ben is behind the theft, retaliate in various benign ways that lead to a multi-layering of action sequences reminiscent of Mission Impossible meets The Fugitive. Honestly, don't those guys ever get 'intelligence' information that is correct? In the final analysis, \\\"National Treasure\\\" isn't great film making, so much as it's a patchwork rehash of tired old bits from other movies, woven together from scraps, the likes of which would make IL' Betsy Ross blush.<br /><br />The Buena Vista DVD delivers a far more generous treatment than this film is deserving of. The anamorphic widescreen picture exhibits a very smooth and finely detailed image with very rich colors, natural flesh tones, solid blacks and clean whites. The stylized image is also free of blemishes and digital enhancements. The audio is 5.1 and delivers a nice sonic boom to your side and rear speakers with intensity and realism. Extras include a host of promotional junket material that is rather deep and over the top in its explanation of how and why this film was made. If only, as an audience, we had had more clarification as to why Ben and co. were chasing after an illusive treasure, this might have been one good flick. Extras conclude with the theatrical trailer, audio commentary and deleted scenes. Not for the faint-hearted \\u0096 just the thick-headed.\"\n        ],\n        \"semantic_type\": \"\",\n        \"description\": \"\"\n      }\n    },\n    {\n      \"column\": \"sentiment\",\n      \"properties\": {\n        \"dtype\": \"category\",\n        \"num_unique_values\": 2,\n        \"samples\": [\n          \"negative\",\n          \"positive\"\n        ],\n        \"semantic_type\": \"\",\n        \"description\": \"\"\n      }\n    }\n  ]\n}",
              "type": "dataframe",
              "variable_name": "imdb_reviews_df"
            },
            "text/html": [
              "\n",
              "  <div id=\"df-f1222167-99d7-4f40-898b-fcf8086cc988\" class=\"colab-df-container\">\n",
              "    <div>\n",
              "<style scoped>\n",
              "    .dataframe tbody tr th:only-of-type {\n",
              "        vertical-align: middle;\n",
              "    }\n",
              "\n",
              "    .dataframe tbody tr th {\n",
              "        vertical-align: top;\n",
              "    }\n",
              "\n",
              "    .dataframe thead th {\n",
              "        text-align: right;\n",
              "    }\n",
              "</style>\n",
              "<table border=\"1\" class=\"dataframe\">\n",
              "  <thead>\n",
              "    <tr style=\"text-align: right;\">\n",
              "      <th></th>\n",
              "      <th>review</th>\n",
              "      <th>sentiment</th>\n",
              "    </tr>\n",
              "  </thead>\n",
              "  <tbody>\n",
              "    <tr>\n",
              "      <th>0</th>\n",
              "      <td>One of the other reviewers has mentioned that ...</td>\n",
              "      <td>positive</td>\n",
              "    </tr>\n",
              "    <tr>\n",
              "      <th>1</th>\n",
              "      <td>A wonderful little production. &lt;br /&gt;&lt;br /&gt;The...</td>\n",
              "      <td>positive</td>\n",
              "    </tr>\n",
              "    <tr>\n",
              "      <th>2</th>\n",
              "      <td>I thought this was a wonderful way to spend ti...</td>\n",
              "      <td>positive</td>\n",
              "    </tr>\n",
              "    <tr>\n",
              "      <th>3</th>\n",
              "      <td>Basically there's a family where a little boy ...</td>\n",
              "      <td>negative</td>\n",
              "    </tr>\n",
              "    <tr>\n",
              "      <th>4</th>\n",
              "      <td>Petter Mattei's \"Love in the Time of Money\" is...</td>\n",
              "      <td>positive</td>\n",
              "    </tr>\n",
              "  </tbody>\n",
              "</table>\n",
              "</div>\n",
              "    <div class=\"colab-df-buttons\">\n",
              "\n",
              "  <div class=\"colab-df-container\">\n",
              "    <button class=\"colab-df-convert\" onclick=\"convertToInteractive('df-f1222167-99d7-4f40-898b-fcf8086cc988')\"\n",
              "            title=\"Convert this dataframe to an interactive table.\"\n",
              "            style=\"display:none;\">\n",
              "\n",
              "  <svg xmlns=\"http://www.w3.org/2000/svg\" height=\"24px\" viewBox=\"0 -960 960 960\">\n",
              "    <path d=\"M120-120v-720h720v720H120Zm60-500h600v-160H180v160Zm220 220h160v-160H400v160Zm0 220h160v-160H400v160ZM180-400h160v-160H180v160Zm440 0h160v-160H620v160ZM180-180h160v-160H180v160Zm440 0h160v-160H620v160Z\"/>\n",
              "  </svg>\n",
              "    </button>\n",
              "\n",
              "  <style>\n",
              "    .colab-df-container {\n",
              "      display:flex;\n",
              "      gap: 12px;\n",
              "    }\n",
              "\n",
              "    .colab-df-convert {\n",
              "      background-color: #E8F0FE;\n",
              "      border: none;\n",
              "      border-radius: 50%;\n",
              "      cursor: pointer;\n",
              "      display: none;\n",
              "      fill: #1967D2;\n",
              "      height: 32px;\n",
              "      padding: 0 0 0 0;\n",
              "      width: 32px;\n",
              "    }\n",
              "\n",
              "    .colab-df-convert:hover {\n",
              "      background-color: #E2EBFA;\n",
              "      box-shadow: 0px 1px 2px rgba(60, 64, 67, 0.3), 0px 1px 3px 1px rgba(60, 64, 67, 0.15);\n",
              "      fill: #174EA6;\n",
              "    }\n",
              "\n",
              "    .colab-df-buttons div {\n",
              "      margin-bottom: 4px;\n",
              "    }\n",
              "\n",
              "    [theme=dark] .colab-df-convert {\n",
              "      background-color: #3B4455;\n",
              "      fill: #D2E3FC;\n",
              "    }\n",
              "\n",
              "    [theme=dark] .colab-df-convert:hover {\n",
              "      background-color: #434B5C;\n",
              "      box-shadow: 0px 1px 3px 1px rgba(0, 0, 0, 0.15);\n",
              "      filter: drop-shadow(0px 1px 2px rgba(0, 0, 0, 0.3));\n",
              "      fill: #FFFFFF;\n",
              "    }\n",
              "  </style>\n",
              "\n",
              "    <script>\n",
              "      const buttonEl =\n",
              "        document.querySelector('#df-f1222167-99d7-4f40-898b-fcf8086cc988 button.colab-df-convert');\n",
              "      buttonEl.style.display =\n",
              "        google.colab.kernel.accessAllowed ? 'block' : 'none';\n",
              "\n",
              "      async function convertToInteractive(key) {\n",
              "        const element = document.querySelector('#df-f1222167-99d7-4f40-898b-fcf8086cc988');\n",
              "        const dataTable =\n",
              "          await google.colab.kernel.invokeFunction('convertToInteractive',\n",
              "                                                    [key], {});\n",
              "        if (!dataTable) return;\n",
              "\n",
              "        const docLinkHtml = 'Like what you see? Visit the ' +\n",
              "          '<a target=\"_blank\" href=https://colab.research.google.com/notebooks/data_table.ipynb>data table notebook</a>'\n",
              "          + ' to learn more about interactive tables.';\n",
              "        element.innerHTML = '';\n",
              "        dataTable['output_type'] = 'display_data';\n",
              "        await google.colab.output.renderOutput(dataTable, element);\n",
              "        const docLink = document.createElement('div');\n",
              "        docLink.innerHTML = docLinkHtml;\n",
              "        element.appendChild(docLink);\n",
              "      }\n",
              "    </script>\n",
              "  </div>\n",
              "\n",
              "\n",
              "    <div id=\"df-4dccc6b5-6a6e-4ea7-9b16-9e63f5fc0058\">\n",
              "      <button class=\"colab-df-quickchart\" onclick=\"quickchart('df-4dccc6b5-6a6e-4ea7-9b16-9e63f5fc0058')\"\n",
              "                title=\"Suggest charts\"\n",
              "                style=\"display:none;\">\n",
              "\n",
              "<svg xmlns=\"http://www.w3.org/2000/svg\" height=\"24px\"viewBox=\"0 0 24 24\"\n",
              "     width=\"24px\">\n",
              "    <g>\n",
              "        <path d=\"M19 3H5c-1.1 0-2 .9-2 2v14c0 1.1.9 2 2 2h14c1.1 0 2-.9 2-2V5c0-1.1-.9-2-2-2zM9 17H7v-7h2v7zm4 0h-2V7h2v10zm4 0h-2v-4h2v4z\"/>\n",
              "    </g>\n",
              "</svg>\n",
              "      </button>\n",
              "\n",
              "<style>\n",
              "  .colab-df-quickchart {\n",
              "      --bg-color: #E8F0FE;\n",
              "      --fill-color: #1967D2;\n",
              "      --hover-bg-color: #E2EBFA;\n",
              "      --hover-fill-color: #174EA6;\n",
              "      --disabled-fill-color: #AAA;\n",
              "      --disabled-bg-color: #DDD;\n",
              "  }\n",
              "\n",
              "  [theme=dark] .colab-df-quickchart {\n",
              "      --bg-color: #3B4455;\n",
              "      --fill-color: #D2E3FC;\n",
              "      --hover-bg-color: #434B5C;\n",
              "      --hover-fill-color: #FFFFFF;\n",
              "      --disabled-bg-color: #3B4455;\n",
              "      --disabled-fill-color: #666;\n",
              "  }\n",
              "\n",
              "  .colab-df-quickchart {\n",
              "    background-color: var(--bg-color);\n",
              "    border: none;\n",
              "    border-radius: 50%;\n",
              "    cursor: pointer;\n",
              "    display: none;\n",
              "    fill: var(--fill-color);\n",
              "    height: 32px;\n",
              "    padding: 0;\n",
              "    width: 32px;\n",
              "  }\n",
              "\n",
              "  .colab-df-quickchart:hover {\n",
              "    background-color: var(--hover-bg-color);\n",
              "    box-shadow: 0 1px 2px rgba(60, 64, 67, 0.3), 0 1px 3px 1px rgba(60, 64, 67, 0.15);\n",
              "    fill: var(--button-hover-fill-color);\n",
              "  }\n",
              "\n",
              "  .colab-df-quickchart-complete:disabled,\n",
              "  .colab-df-quickchart-complete:disabled:hover {\n",
              "    background-color: var(--disabled-bg-color);\n",
              "    fill: var(--disabled-fill-color);\n",
              "    box-shadow: none;\n",
              "  }\n",
              "\n",
              "  .colab-df-spinner {\n",
              "    border: 2px solid var(--fill-color);\n",
              "    border-color: transparent;\n",
              "    border-bottom-color: var(--fill-color);\n",
              "    animation:\n",
              "      spin 1s steps(1) infinite;\n",
              "  }\n",
              "\n",
              "  @keyframes spin {\n",
              "    0% {\n",
              "      border-color: transparent;\n",
              "      border-bottom-color: var(--fill-color);\n",
              "      border-left-color: var(--fill-color);\n",
              "    }\n",
              "    20% {\n",
              "      border-color: transparent;\n",
              "      border-left-color: var(--fill-color);\n",
              "      border-top-color: var(--fill-color);\n",
              "    }\n",
              "    30% {\n",
              "      border-color: transparent;\n",
              "      border-left-color: var(--fill-color);\n",
              "      border-top-color: var(--fill-color);\n",
              "      border-right-color: var(--fill-color);\n",
              "    }\n",
              "    40% {\n",
              "      border-color: transparent;\n",
              "      border-right-color: var(--fill-color);\n",
              "      border-top-color: var(--fill-color);\n",
              "    }\n",
              "    60% {\n",
              "      border-color: transparent;\n",
              "      border-right-color: var(--fill-color);\n",
              "    }\n",
              "    80% {\n",
              "      border-color: transparent;\n",
              "      border-right-color: var(--fill-color);\n",
              "      border-bottom-color: var(--fill-color);\n",
              "    }\n",
              "    90% {\n",
              "      border-color: transparent;\n",
              "      border-bottom-color: var(--fill-color);\n",
              "    }\n",
              "  }\n",
              "</style>\n",
              "\n",
              "      <script>\n",
              "        async function quickchart(key) {\n",
              "          const quickchartButtonEl =\n",
              "            document.querySelector('#' + key + ' button');\n",
              "          quickchartButtonEl.disabled = true;  // To prevent multiple clicks.\n",
              "          quickchartButtonEl.classList.add('colab-df-spinner');\n",
              "          try {\n",
              "            const charts = await google.colab.kernel.invokeFunction(\n",
              "                'suggestCharts', [key], {});\n",
              "          } catch (error) {\n",
              "            console.error('Error during call to suggestCharts:', error);\n",
              "          }\n",
              "          quickchartButtonEl.classList.remove('colab-df-spinner');\n",
              "          quickchartButtonEl.classList.add('colab-df-quickchart-complete');\n",
              "        }\n",
              "        (() => {\n",
              "          let quickchartButtonEl =\n",
              "            document.querySelector('#df-4dccc6b5-6a6e-4ea7-9b16-9e63f5fc0058 button');\n",
              "          quickchartButtonEl.style.display =\n",
              "            google.colab.kernel.accessAllowed ? 'block' : 'none';\n",
              "        })();\n",
              "      </script>\n",
              "    </div>\n",
              "\n",
              "    </div>\n",
              "  </div>\n"
            ],
            "text/plain": [
              "                                              review sentiment\n",
              "0  One of the other reviewers has mentioned that ...  positive\n",
              "1  A wonderful little production. <br /><br />The...  positive\n",
              "2  I thought this was a wonderful way to spend ti...  positive\n",
              "3  Basically there's a family where a little boy ...  negative\n",
              "4  Petter Mattei's \"Love in the Time of Money\" is...  positive"
            ]
          },
          "execution_count": 7,
          "metadata": {},
          "output_type": "execute_result"
        }
      ],
      "source": [
        "# Loading the raw data\n",
        "imdb_reviews_df = pd.read_csv(\"/content/IMDB Dataset.csv\")\n",
        "imdb_reviews_df.head()"
      ]
    },
    {
      "cell_type": "code",
      "execution_count": 8,
      "id": "959337c3",
      "metadata": {
        "id": "959337c3"
      },
      "outputs": [],
      "source": [
        "# Encoding labels such that positive:1, and negative:0\n",
        "imdb_reviews_df['label'] = imdb_reviews_df['sentiment'].map({'positive': 1, 'negative': 0})\n",
        "\n",
        "reviews = imdb_reviews_df['review'].tolist()\n",
        "labels = imdb_reviews_df['label'].tolist()"
      ]
    },
    {
      "cell_type": "code",
      "execution_count": 9,
      "id": "759c12f7",
      "metadata": {
        "colab": {
          "base_uri": "https://localhost:8080/"
        },
        "id": "759c12f7",
        "outputId": "0f6eeff9-fc24-49c4-c21e-550196590c7d"
      },
      "outputs": [
        {
          "name": "stdout",
          "output_type": "stream",
          "text": [
            "Train set size: 35000\n",
            "Validation set size: 7500\n",
            "Test set size: 7500\n"
          ]
        }
      ],
      "source": [
        "# Split into train set with 70% and temporary set with 30% to be further split to test and validation sets\n",
        "X_train, X_temp, y_train, y_temp = train_test_split(\n",
        "    reviews, labels, test_size=0.3, stratify=labels, random_state=42\n",
        ")\n",
        "\n",
        "#Split temp into validation set with 15% and test set with 15%\n",
        "X_val, X_test, y_val, y_test = train_test_split(\n",
        "    X_temp, y_temp, test_size=0.5, stratify=y_temp, random_state=42\n",
        ")\n",
        "\n",
        "print(f\"Train set size: {len(X_train)}\")\n",
        "print(f\"Validation set size: {len(X_val)}\")\n",
        "print(f\"Test set size: {len(X_test)}\")\n"
      ]
    },
    {
      "cell_type": "markdown",
      "id": "14840ad8",
      "metadata": {
        "id": "14840ad8"
      },
      "source": [
        "## Tokenization Using BertTokenizer\n",
        "We use the `bert-base-uncased` tokenizer, which:\n",
        "- Lowercases all text (since it's uncased)\n",
        "- Adds special tokens\n",
        "- Pads or truncates sequences to a fixed maximum length\n",
        "- Converts text into token IDs and attention masks for the BERT model"
      ]
    },
    {
      "cell_type": "code",
      "execution_count": 2,
      "id": "921be4af",
      "metadata": {
        "colab": {
          "base_uri": "https://localhost:8080/",
          "height": 269,
          "referenced_widgets": [
            "073f3e60eb564bd5ba76b30b6ec8805a",
            "c8fd0736e07043a5b193a927c790ed5a",
            "0a77bbda0fdd4ac9a5daaed0c8e228c5",
            "7f7fa9e1aa844770aedc71c907d8bdd3",
            "2bd80fe2b98e460c8b65efa84d6c9a17",
            "958e898af0b643db9485765ac0615e30",
            "51c56c0f9e8c47d49817576155c028a1",
            "d44abcbae4484ab2958a1f8b4a7f0b3f",
            "e6aa135104ad4980a1b293ac150f9dc9",
            "6e17d9d9de9b4cc2991b70bb383b23d9",
            "bdec8af7532a44b79ccc40a30f2b7c23",
            "14c45c28c649487ab75f6cc11bd5fa53",
            "a82a33612cb04880b6d477bd36f5761c",
            "895622ad23e04acf890c1e3581fafe23",
            "81347c5082bb49da84b9e32fcd63e050",
            "6108cba8e93e4a24bdc8290d620a7caf",
            "c4d590c1c4314986a05fb11e85f1df83",
            "d437cb5b792245b895d9e12ec26e18b7",
            "99f721a2861f4d4cb719ce782333017e",
            "0034f2ad480949f494eb4bba7b842825",
            "f1735f649f8e42089935a155aaa3f987",
            "92e02fa615f44dd497bc35efa5ba9ef1",
            "d801726bf7aa4adf97133efabd0ff7f4",
            "32efe41f05144fa4b08fbc1f4cd5ccc4",
            "92d9561296414af183661c9559bfa1d6",
            "f723865077954d5e977936049c5b35ab",
            "fe759e33bd944d1087e41e2efe737993",
            "73347167cac44ae5bbc18fede95cd949",
            "58bfc30f76e64b46940799d21de40d9c",
            "da75125cf2e14cabb259babf8190a855",
            "3b00363dd1ea4c78b0f44334c5b5945e",
            "4e23a8a382064e928dd4cde51af1d7b5",
            "ad51fe2fb237404b828222b062952065",
            "0de34db9a04f46dcac707d0ecfeed2d7",
            "fa1868ec0299487fb7b38d693a10aa46",
            "2812b79eb2b24f479acb11c7f8a89746",
            "b5923c2417bc4ac3ae74942a54d871bb",
            "b856b30e57df44678448c33a0810e1a6",
            "da419589db074062921f259325a6d98f",
            "b30b572d85ea416d91738b338fb638bf",
            "48bba871049d47b98532f0ae85bf4dfa",
            "a8e07d9d9611449d934b70be191b7ee4",
            "2ef83ba4e82745a991fafaaa1d724dcb",
            "7efab3f882ec46c1898320a530a5147b"
          ]
        },
        "id": "921be4af",
        "outputId": "d0cf3ea4-c756-467a-f219-30e689694a29"
      },
      "outputs": [],
      "source": [
        "# Load the pretrained tokenizer\n",
        "tokenizer = BertTokenizer.from_pretrained('bert-base-uncased')"
      ]
    },
    {
      "cell_type": "markdown",
      "id": "0719a35e",
      "metadata": {
        "id": "0719a35e"
      },
      "source": [
        "We encode the train and test sets such that train_encodings and test_encodings contain:\n",
        "- input_ids: token indices\n",
        "- attention_mask: 1 where tokens exist, 0 for padding"
      ]
    },
    {
      "cell_type": "code",
      "execution_count": 11,
      "id": "a7940f52",
      "metadata": {
        "id": "a7940f52"
      },
      "outputs": [],
      "source": [
        "# BERT supports up to 512, but we use 256 for speed and memory\n",
        "MAX_LEN = 256\n",
        "\n",
        "# Tokenizing the train set\n",
        "train_encodings = tokenizer(\n",
        "    X_train,\n",
        "    truncation = True,\n",
        "    padding = True,\n",
        "    max_length = MAX_LEN,\n",
        "    return_tensors = \"pt\"\n",
        ")\n",
        "\n",
        "# Tokenizing the val set\n",
        "val_encodings = tokenizer(\n",
        "    X_val,\n",
        "    truncation=True,\n",
        "    padding=True,\n",
        "    max_length=MAX_LEN,\n",
        "    return_tensors=\"pt\"\n",
        ")\n",
        "\n",
        "# Tokenizing the test set\n",
        "test_encodings = tokenizer(\n",
        "    X_test,\n",
        "    truncation = True,\n",
        "    padding = True,\n",
        "    max_length = MAX_LEN,\n",
        "    return_tensors = \"pt\"\n",
        ")"
      ]
    },
    {
      "cell_type": "code",
      "execution_count": 12,
      "id": "1253638d",
      "metadata": {
        "colab": {
          "base_uri": "https://localhost:8080/"
        },
        "id": "1253638d",
        "outputId": "91adaa0e-89c9-4745-901e-2bf491f96df3"
      },
      "outputs": [
        {
          "name": "stdout",
          "output_type": "stream",
          "text": [
            "Original Review:\n",
            "If you want to see a true thriller, rent this!!! It's not from the director or screenwriter of \"Scream\", doesn't feature overacting, overpaid \"TV\" actors passing off as \"stars\", and is not a run of the mill special effects bonanza. Instead you'll get a top-notch, edgy, very strong (in violence) yet thrilling nailbiter.\n",
            "\n",
            "Tokenized Input IDs:\n",
            "tensor([  101,  2065,  2017,  2215,  2000,  2156,  1037,  2995, 10874,  1010,\n",
            "         9278,  2023,   999,   999,   999,  2009,  1005,  1055,  2025,  2013,\n",
            "         1996,  2472,  2030, 11167,  1997,  1000,  6978,  1000,  1010,  2987,\n",
            "         1005,  1056,  3444,  2058, 18908,  2075,  1010,  2058,  4502,  3593,\n",
            "         1000,  2694,  1000,  5889,  4458,  2125,  2004,  1000,  3340,  1000,\n",
            "         1010,  1998,  2003,  2025,  1037,  2448,  1997,  1996,  4971,  2569,\n",
            "         3896, 14753, 16076,  1012,  2612,  2017,  1005,  2222,  2131,  1037,\n",
            "         2327,  1011, 18624,  1010,  3968,  6292,  1010,  2200,  2844,  1006,\n",
            "         1999,  4808,  1007,  2664, 26162, 13774, 16313,  2121,  1012,   102,\n",
            "            0,     0,     0,     0,     0,     0,     0,     0,     0,     0,\n",
            "            0,     0,     0,     0,     0,     0,     0,     0,     0,     0,\n",
            "            0,     0,     0,     0,     0,     0,     0,     0,     0,     0,\n",
            "            0,     0,     0,     0,     0,     0,     0,     0,     0,     0,\n",
            "            0,     0,     0,     0,     0,     0,     0,     0,     0,     0,\n",
            "            0,     0,     0,     0,     0,     0,     0,     0,     0,     0,\n",
            "            0,     0,     0,     0,     0,     0,     0,     0,     0,     0,\n",
            "            0,     0,     0,     0,     0,     0,     0,     0,     0,     0,\n",
            "            0,     0,     0,     0,     0,     0,     0,     0,     0,     0,\n",
            "            0,     0,     0,     0,     0,     0,     0,     0,     0,     0,\n",
            "            0,     0,     0,     0,     0,     0,     0,     0,     0,     0,\n",
            "            0,     0,     0,     0,     0,     0,     0,     0,     0,     0,\n",
            "            0,     0,     0,     0,     0,     0,     0,     0,     0,     0,\n",
            "            0,     0,     0,     0,     0,     0,     0,     0,     0,     0,\n",
            "            0,     0,     0,     0,     0,     0,     0,     0,     0,     0,\n",
            "            0,     0,     0,     0,     0,     0,     0,     0,     0,     0,\n",
            "            0,     0,     0,     0,     0,     0])\n",
            "\n",
            "Attention Mask:\n",
            "tensor([1, 1, 1, 1, 1, 1, 1, 1, 1, 1, 1, 1, 1, 1, 1, 1, 1, 1, 1, 1, 1, 1, 1, 1,\n",
            "        1, 1, 1, 1, 1, 1, 1, 1, 1, 1, 1, 1, 1, 1, 1, 1, 1, 1, 1, 1, 1, 1, 1, 1,\n",
            "        1, 1, 1, 1, 1, 1, 1, 1, 1, 1, 1, 1, 1, 1, 1, 1, 1, 1, 1, 1, 1, 1, 1, 1,\n",
            "        1, 1, 1, 1, 1, 1, 1, 1, 1, 1, 1, 1, 1, 1, 1, 1, 1, 1, 0, 0, 0, 0, 0, 0,\n",
            "        0, 0, 0, 0, 0, 0, 0, 0, 0, 0, 0, 0, 0, 0, 0, 0, 0, 0, 0, 0, 0, 0, 0, 0,\n",
            "        0, 0, 0, 0, 0, 0, 0, 0, 0, 0, 0, 0, 0, 0, 0, 0, 0, 0, 0, 0, 0, 0, 0, 0,\n",
            "        0, 0, 0, 0, 0, 0, 0, 0, 0, 0, 0, 0, 0, 0, 0, 0, 0, 0, 0, 0, 0, 0, 0, 0,\n",
            "        0, 0, 0, 0, 0, 0, 0, 0, 0, 0, 0, 0, 0, 0, 0, 0, 0, 0, 0, 0, 0, 0, 0, 0,\n",
            "        0, 0, 0, 0, 0, 0, 0, 0, 0, 0, 0, 0, 0, 0, 0, 0, 0, 0, 0, 0, 0, 0, 0, 0,\n",
            "        0, 0, 0, 0, 0, 0, 0, 0, 0, 0, 0, 0, 0, 0, 0, 0, 0, 0, 0, 0, 0, 0, 0, 0,\n",
            "        0, 0, 0, 0, 0, 0, 0, 0, 0, 0, 0, 0, 0, 0, 0, 0])\n"
          ]
        }
      ],
      "source": [
        "# Checking on the first example\n",
        "i = 0\n",
        "\n",
        "print(\"Original Review:\")\n",
        "print(X_train[i])\n",
        "print(\"\\nTokenized Input IDs:\")\n",
        "print(train_encodings['input_ids'][i])\n",
        "\n",
        "print(\"\\nAttention Mask:\")\n",
        "print(train_encodings['attention_mask'][i])"
      ]
    },
    {
      "cell_type": "code",
      "execution_count": 13,
      "id": "c79dd005",
      "metadata": {
        "id": "c79dd005"
      },
      "outputs": [],
      "source": [
        "# Convert labels to torch tensors\n",
        "train_labels = torch.tensor(y_train)\n",
        "val_labels = torch.tensor(y_val)\n",
        "test_labels = torch.tensor(y_test)"
      ]
    },
    {
      "cell_type": "code",
      "execution_count": 14,
      "id": "a5929b17",
      "metadata": {
        "colab": {
          "base_uri": "https://localhost:8080/"
        },
        "id": "a5929b17",
        "outputId": "99ab6106-5b04-4c0f-f0ad-7b742c196a22"
      },
      "outputs": [
        {
          "data": {
            "text/plain": [
              "tensor([1, 1, 1,  ..., 0, 0, 0])"
            ]
          },
          "execution_count": 14,
          "metadata": {},
          "output_type": "execute_result"
        }
      ],
      "source": [
        "# Seeing how they look\n",
        "train_labels"
      ]
    },
    {
      "cell_type": "markdown",
      "id": "7c31c4d6",
      "metadata": {
        "id": "7c31c4d6"
      },
      "source": [
        "## Creating a PyTorch Dataset Class\n",
        "To use our tokenized data with PyTorch, we wrap it in a custom Dataset class, which returns inputs and labels for each sample."
      ]
    },
    {
      "cell_type": "code",
      "execution_count": 15,
      "id": "5febf008",
      "metadata": {
        "id": "5febf008"
      },
      "outputs": [],
      "source": [
        "class IMDbDataset(Dataset):\n",
        "    def __init__(self, encodings, labels):\n",
        "        self.encodings = encodings\n",
        "        self.labels = labels\n",
        "\n",
        "    def __len__(self):\n",
        "        return len(self.labels)\n",
        "\n",
        "    def __getitem__(self, index):\n",
        "        item = {key: val[index] for key, val in self.encodings.items()}\n",
        "        item['labels'] = self.labels[index]\n",
        "        return item"
      ]
    },
    {
      "cell_type": "markdown",
      "id": "12adb19a",
      "metadata": {
        "id": "12adb19a"
      },
      "source": [
        "### Creating Dataset Instances for each train, val and test sets"
      ]
    },
    {
      "cell_type": "code",
      "execution_count": 16,
      "id": "60e7addf",
      "metadata": {
        "id": "60e7addf"
      },
      "outputs": [],
      "source": [
        "train_dataset = IMDbDataset(train_encodings, train_labels)\n",
        "val_dataset = IMDbDataset(val_encodings, val_labels)\n",
        "test_dataset = IMDbDataset(test_encodings, test_labels)"
      ]
    },
    {
      "cell_type": "markdown",
      "id": "6325d08f",
      "metadata": {
        "id": "6325d08f"
      },
      "source": [
        "### Creating DataLoaders\n",
        "- DataLoaders handle batching, shuffling, and parallel loading of data.\n",
        "- They allow the model to efficiently process batches during training and evaluation."
      ]
    },
    {
      "cell_type": "code",
      "execution_count": 17,
      "id": "ed679d02",
      "metadata": {
        "id": "ed679d02"
      },
      "outputs": [],
      "source": [
        "BATCH_SIZE = 16\n",
        "train_loader = DataLoader(train_dataset, batch_size=BATCH_SIZE, shuffle=True)\n",
        "val_loader   = DataLoader(val_dataset, batch_size=BATCH_SIZE)\n",
        "test_loader = DataLoader(test_dataset, batch_size=BATCH_SIZE)"
      ]
    },
    {
      "cell_type": "code",
      "execution_count": 18,
      "id": "addb4549",
      "metadata": {
        "colab": {
          "base_uri": "https://localhost:8080/"
        },
        "id": "addb4549",
        "outputId": "572ac093-bc86-4895-b94c-d1f61fbebc10"
      },
      "outputs": [
        {
          "name": "stdout",
          "output_type": "stream",
          "text": [
            "\n",
            "Batch size: 16\n",
            "Number of training batches: 2188\n",
            "Number of validation batches: 469\n",
            "Number of test batches: 469\n"
          ]
        }
      ],
      "source": [
        "print(f\"\\nBatch size: {BATCH_SIZE}\")\n",
        "print(f\"Number of training batches: {len(train_loader)}\")\n",
        "print(f\"Number of validation batches: {len(val_loader)}\")\n",
        "print(f\"Number of test batches: {len(test_loader)}\")"
      ]
    },
    {
      "cell_type": "markdown",
      "id": "1bff39e2",
      "metadata": {
        "id": "1bff39e2"
      },
      "source": [
        "## Load Pretrained BERT for Sequence Classification & Setting Parameters"
      ]
    },
    {
      "cell_type": "code",
      "execution_count": null,
      "id": "0b66e733",
      "metadata": {
        "colab": {
          "base_uri": "https://localhost:8080/",
          "height": 104,
          "referenced_widgets": [
            "72db476b85d7474a8a970983eea5679f",
            "62abfc640e614f3f96774c106543e55e",
            "931f234150d34a3a8667c42a554fb281",
            "d44a58f49b1e4bd78ef2a2d0fa9038e5",
            "2ced48febd2745d19c75f35591fc7c22",
            "0a69c2b4e5fb44fa93d32cd59b6a5c54",
            "1dd2b7afb77b4c6a95c74c6147e41852",
            "2376a43da0814242b285a578ba98ebdb",
            "269ff5f3eeeb426b9a431ccd7bb3422a",
            "50f4b68181a04298a72ad3b71e3b536e",
            "26e5bb0ec64043dd9a2c45d262b688af"
          ]
        },
        "id": "0b66e733",
        "outputId": "f5988ec2-68b1-4826-b6f0-135ab95325ac"
      },
      "outputs": [],
      "source": [
        "NUM_LABELS = 2\n",
        "\n",
        "# Load pretrained BERT model with a classification head for 2 classes (positive/negative)\n",
        "model = BertForSequenceClassification.from_pretrained('bert-base-uncased', num_labels=NUM_LABELS)"
      ]
    },
    {
      "cell_type": "code",
      "execution_count": 20,
      "id": "ffc236e0",
      "metadata": {
        "colab": {
          "base_uri": "https://localhost:8080/"
        },
        "id": "ffc236e0",
        "outputId": "039cd9e9-f860-426c-91a8-37965984d570"
      },
      "outputs": [
        {
          "name": "stdout",
          "output_type": "stream",
          "text": [
            "Using device: cuda\n"
          ]
        }
      ],
      "source": [
        "device = torch.device(\"cuda\") if torch.cuda.is_available() else torch.device(\"cpu\")\n",
        "model.to(device)\n",
        "\n",
        "print(\"Using device:\", device)"
      ]
    },
    {
      "cell_type": "code",
      "execution_count": 21,
      "id": "8f0427f6",
      "metadata": {
        "id": "8f0427f6"
      },
      "outputs": [],
      "source": [
        "EPOCHS = 3\n",
        "LEARNING_RATE = 2e-5\n",
        "WARMUP_STEPS = 500\n",
        "\n",
        "# Using AdamW Optimizer\n",
        "optimizer = AdamW(model.parameters(), lr=LEARNING_RATE, weight_decay=0.01)\n",
        "\n",
        "# Calculate total training steps\n",
        "total_steps = len(train_loader) * EPOCHS\n",
        "\n",
        "# Create learning rate scheduler\n",
        "scheduler = get_scheduler(\n",
        "    \"linear\",\n",
        "    optimizer=optimizer,\n",
        "    num_warmup_steps=WARMUP_STEPS,\n",
        "    num_training_steps=total_steps\n",
        ")"
      ]
    },
    {
      "cell_type": "code",
      "execution_count": 22,
      "id": "883e701d",
      "metadata": {
        "colab": {
          "base_uri": "https://localhost:8080/"
        },
        "id": "883e701d",
        "outputId": "da5e1819-f6d8-4f64-e09d-ce79abb2a2fa"
      },
      "outputs": [
        {
          "name": "stdout",
          "output_type": "stream",
          "text": [
            "\n",
            "Training parameters:\n",
            "Learning rate: 2e-05\n",
            "Epochs: 3\n",
            "Warmup steps: 500\n",
            "Total training steps: 6564\n"
          ]
        }
      ],
      "source": [
        "# Summary for the Training Parameters\n",
        "print(f\"\\nTraining parameters:\")\n",
        "print(f\"Learning rate: {LEARNING_RATE}\")\n",
        "print(f\"Epochs: {EPOCHS}\")\n",
        "print(f\"Warmup steps: {WARMUP_STEPS}\")\n",
        "print(f\"Total training steps: {total_steps}\")"
      ]
    },
    {
      "cell_type": "markdown",
      "id": "95a30527",
      "metadata": {
        "id": "95a30527"
      },
      "source": [
        "## Training and Evaluating Functions"
      ]
    },
    {
      "cell_type": "code",
      "execution_count": 23,
      "id": "dfe9a5b1",
      "metadata": {
        "id": "dfe9a5b1"
      },
      "outputs": [],
      "source": [
        "# Function to get accuracy\n",
        "def get_accuracy(preds, labels):\n",
        "    # Get the predicted class by getting the index of the highest score\n",
        "    pred_labels = torch.argmax(preds, dim=1)\n",
        "    # calculates the total number of correct predictions comparing with the labels\n",
        "    correct = (pred_labels == labels).sum().item()\n",
        "    # Calculates the accuracy of correct predictions over total\n",
        "    return correct / len(labels)"
      ]
    },
    {
      "cell_type": "code",
      "execution_count": 24,
      "id": "4f4d5982",
      "metadata": {
        "id": "4f4d5982"
      },
      "outputs": [],
      "source": [
        "# Training one epoch\n",
        "def train_epoch(model, dataloader, optimizer, scheduler):\n",
        "    # Training mode for the model\n",
        "    model.train()\n",
        "\n",
        "    # Initializing to accumulate the training loss and accuracy over the epoch\n",
        "    total_loss = 0\n",
        "    total_acc = 0\n",
        "\n",
        "    # Looping through each batch of data of input-output pairs\n",
        "    for batch_idx, batch in enumerate(dataloader):\n",
        "        # Clears previous gradients\n",
        "        optimizer.zero_grad()\n",
        "\n",
        "        # To make sure they are on the device we are training on\n",
        "        input_ids = batch['input_ids'].to(device)\n",
        "        attention_mask = batch['attention_mask'].to(device)\n",
        "        labels = batch['labels'].to(device)\n",
        "\n",
        "        # Forward pass which computes predictions and loss\n",
        "        outputs = model(input_ids=input_ids, attention_mask=attention_mask, labels=labels)\n",
        "        loss = outputs.loss\n",
        "        logits = outputs.logits\n",
        "\n",
        "        # Getting accuracy for current batch\n",
        "        acc = get_accuracy(logits, labels)\n",
        "\n",
        "        # Backpropagation\n",
        "        loss.backward()\n",
        "        # Update weights and optimizing\n",
        "        optimizer.step()\n",
        "        scheduler.step()\n",
        "\n",
        "        # Accumulate loss and accuracy\n",
        "        total_loss += loss.item()\n",
        "        total_acc += acc\n",
        "\n",
        "        # Print progress every 500 batches\n",
        "        if batch_idx % 500 == 0:\n",
        "            print(f\"Batch {batch_idx}/{len(dataloader)}, Loss: {loss.item():.4f}, Acc: {acc:.4f}\")\n",
        "\n",
        "    # Returning the epoch loss and accuracy over all batches\n",
        "    avg_loss = total_loss / len(dataloader)\n",
        "    avg_acc = total_acc / len(dataloader)\n",
        "    return avg_loss, avg_acc"
      ]
    },
    {
      "cell_type": "code",
      "execution_count": 25,
      "id": "508108f9",
      "metadata": {
        "id": "508108f9"
      },
      "outputs": [],
      "source": [
        "# Evaluate the model (for validation or testing)\n",
        "def eval_model(model, dataloader):\n",
        "    # Evaluating mode for the model\n",
        "    model.eval()\n",
        "\n",
        "    # Initializing to accumulate the training loss and accuracy over the epoch\n",
        "    total_loss = 0\n",
        "    total_acc = 0\n",
        "\n",
        "    # No gradient calculation in evaluating, saving memory\n",
        "    with torch.no_grad():\n",
        "        for batch in dataloader:\n",
        "            input_ids = batch['input_ids'].to(device)\n",
        "            attention_mask = batch['attention_mask'].to(device)\n",
        "            labels = batch['labels'].to(device)\n",
        "\n",
        "            # Forward pass\n",
        "            outputs = model(input_ids=input_ids, attention_mask=attention_mask, labels=labels)\n",
        "\n",
        "            loss = outputs.loss\n",
        "            logits = outputs.logits\n",
        "\n",
        "            # Calculate accuracy per batch\n",
        "            acc = get_accuracy(logits, labels)\n",
        "\n",
        "            # Accumulate loss and accuracy\n",
        "            total_loss += loss.item()\n",
        "            total_acc += acc\n",
        "\n",
        "    # Returning avg loss and accuracy\n",
        "    avg_loss = total_loss / len(dataloader)\n",
        "    avg_acc = total_acc / len(dataloader)\n",
        "    return avg_loss, avg_acc\n"
      ]
    },
    {
      "cell_type": "markdown",
      "id": "4b7ffa8a",
      "metadata": {
        "id": "4b7ffa8a"
      },
      "source": [
        "## Training the Model"
      ]
    },
    {
      "cell_type": "code",
      "execution_count": 27,
      "id": "4e32f4b2",
      "metadata": {
        "id": "4e32f4b2"
      },
      "outputs": [],
      "source": [
        "# Store  metrics for plotting\n",
        "train_losses = []\n",
        "val_losses = []\n",
        "train_accuracies = []\n",
        "val_accuracies = []"
      ]
    },
    {
      "cell_type": "code",
      "execution_count": 28,
      "id": "5a642139",
      "metadata": {
        "colab": {
          "base_uri": "https://localhost:8080/"
        },
        "id": "5a642139",
        "outputId": "10a26ae3-fc6f-4254-cf3b-4ab2910c24d1"
      },
      "outputs": [
        {
          "name": "stdout",
          "output_type": "stream",
          "text": [
            "\n",
            "Epoch 1/3\n",
            "Batch 0/2188, Loss: 0.7002, Acc: 0.4375\n",
            "Batch 500/2188, Loss: 0.1366, Acc: 0.9375\n",
            "Batch 1000/2188, Loss: 0.2971, Acc: 0.7500\n",
            "Batch 1500/2188, Loss: 0.4068, Acc: 0.8125\n",
            "Batch 2000/2188, Loss: 0.1236, Acc: 0.9375\n",
            "Train Loss: 0.2779 | Train Accuracy: 87.95%\n",
            "Val Loss:   0.2164 | Val Accuracy:   91.57%\n",
            "\n",
            "Epoch 2/3\n",
            "Batch 0/2188, Loss: 0.0698, Acc: 1.0000\n",
            "Batch 500/2188, Loss: 0.1877, Acc: 0.9375\n",
            "Batch 1000/2188, Loss: 0.1372, Acc: 0.9375\n",
            "Batch 1500/2188, Loss: 0.1130, Acc: 1.0000\n",
            "Batch 2000/2188, Loss: 0.1481, Acc: 0.9375\n",
            "Train Loss: 0.1354 | Train Accuracy: 95.16%\n",
            "Val Loss:   0.2142 | Val Accuracy:   92.36%\n",
            "\n",
            "Epoch 3/3\n",
            "Batch 0/2188, Loss: 0.0119, Acc: 1.0000\n",
            "Batch 500/2188, Loss: 0.1019, Acc: 0.9375\n",
            "Batch 1000/2188, Loss: 0.0026, Acc: 1.0000\n",
            "Batch 1500/2188, Loss: 0.0138, Acc: 1.0000\n",
            "Batch 2000/2188, Loss: 0.0227, Acc: 1.0000\n",
            "Train Loss: 0.0563 | Train Accuracy: 98.33%\n",
            "Val Loss:   0.2519 | Val Accuracy:   92.61%\n",
            "\n",
            "Total BERT Training Time: 4818.46 seconds\n"
          ]
        }
      ],
      "source": [
        "# Loop over the number of epochs\n",
        "start_time = time.time()\n",
        "\n",
        "for epoch in range(EPOCHS):\n",
        "    print(f\"\\nEpoch {epoch + 1}/{EPOCHS}\")\n",
        "\n",
        "    # Train for one epoch\n",
        "    train_loss, train_acc = train_epoch(model, train_loader, optimizer, scheduler)\n",
        "    train_losses.append(train_loss)\n",
        "    train_accuracies.append(train_acc)\n",
        "\n",
        "    # Evaluate on the validation set\n",
        "    val_loss, val_acc = eval_model(model, val_loader)\n",
        "    val_losses.append(val_loss)\n",
        "    val_accuracies.append(val_acc)\n",
        "\n",
        "    print(f\"Train Loss: {train_loss:.4f} | Train Accuracy: {train_acc * 100:.2f}%\")\n",
        "    print(f\"Val Loss:   {val_loss:.4f} | Val Accuracy:   {val_acc * 100:.2f}%\")\n",
        "\n",
        "\n",
        "end_time = time.time()\n",
        "bert_training_time = end_time - start_time\n",
        "print(f\"\\nTotal BERT Training Time: {bert_training_time:.2f} seconds\")"
      ]
    },
    {
      "cell_type": "markdown",
      "id": "87ade490",
      "metadata": {
        "id": "87ade490"
      },
      "source": [
        "## Visualizing Performance"
      ]
    },
    {
      "cell_type": "code",
      "execution_count": 29,
      "id": "20f70af5",
      "metadata": {
        "colab": {
          "base_uri": "https://localhost:8080/",
          "height": 487
        },
        "id": "20f70af5",
        "outputId": "d613ce79-a02b-45f1-cd53-82eb4051c191"
      },
      "outputs": [
        {
          "data": {
            "image/png": "[encoded data removed]",
            "text/plain": [
              "<Figure size 1200x500 with 2 Axes>"
            ]
          },
          "metadata": {},
          "output_type": "display_data"
        }
      ],
      "source": [
        "epochs = range(1, EPOCHS + 1)\n",
        "\n",
        "plt.figure(figsize=(12,5))\n",
        "\n",
        "plt.subplot(1,2,1)\n",
        "plt.plot(epochs, train_losses, label='Train Loss')\n",
        "plt.plot(epochs, val_losses, label='Validation Loss')\n",
        "plt.xlabel('Epoch')\n",
        "plt.ylabel('Loss')\n",
        "plt.title('Loss Over Epochs')\n",
        "plt.legend()\n",
        "\n",
        "plt.subplot(1,2,2)\n",
        "plt.plot(epochs, train_accuracies, label='Train Accuracy')\n",
        "plt.plot(epochs, val_accuracies, label='Validation Accuracy')\n",
        "plt.xlabel('Epoch')\n",
        "plt.ylabel('Accuracy')\n",
        "plt.title('Accuracy Over Epochs')\n",
        "plt.legend()\n",
        "\n",
        "plt.show()"
      ]
    },
    {
      "cell_type": "markdown",
      "id": "ace435b2",
      "metadata": {
        "id": "ace435b2"
      },
      "source": [
        "## Saving the Model"
      ]
    },
    {
      "cell_type": "code",
      "execution_count": 30,
      "id": "f2bdc0fc",
      "metadata": {
        "colab": {
          "base_uri": "https://localhost:8080/"
        },
        "id": "f2bdc0fc",
        "outputId": "d0a4c8e7-59a4-42d1-be9b-d9207e55ecff"
      },
      "outputs": [
        {
          "data": {
            "text/plain": [
              "('./bert_imdb_model/tokenizer_config.json',\n",
              " './bert_imdb_model/special_tokens_map.json',\n",
              " './bert_imdb_model/vocab.txt',\n",
              " './bert_imdb_model/added_tokens.json',\n",
              " './bert_imdb_model/tokenizer.json')"
            ]
          },
          "execution_count": 30,
          "metadata": {},
          "output_type": "execute_result"
        }
      ],
      "source": [
        "save_directory = \"./bert_imdb_model/\"\n",
        "os.makedirs(save_directory, exist_ok=True)\n",
        "\n",
        "# Saving the model and tokenizer\n",
        "model.save_pretrained(save_directory)\n",
        "tokenizer.save_pretrained(save_directory)"
      ]
    },
    {
      "cell_type": "markdown",
      "id": "b03897a7",
      "metadata": {
        "id": "b03897a7"
      },
      "source": [
        "## Loading the Model"
      ]
    },
    {
      "cell_type": "code",
      "execution_count": 31,
      "id": "83c0ba7f",
      "metadata": {
        "colab": {
          "base_uri": "https://localhost:8080/"
        },
        "id": "83c0ba7f",
        "outputId": "e002e73e-4507-4041-b331-ffd4dd77fa74"
      },
      "outputs": [
        {
          "data": {
            "text/plain": [
              "BertForSequenceClassification(\n",
              "  (bert): BertModel(\n",
              "    (embeddings): BertEmbeddings(\n",
              "      (word_embeddings): Embedding(30522, 768, padding_idx=0)\n",
              "      (position_embeddings): Embedding(512, 768)\n",
              "      (token_type_embeddings): Embedding(2, 768)\n",
              "      (LayerNorm): LayerNorm((768,), eps=1e-12, elementwise_affine=True)\n",
              "      (dropout): Dropout(p=0.1, inplace=False)\n",
              "    )\n",
              "    (encoder): BertEncoder(\n",
              "      (layer): ModuleList(\n",
              "        (0-11): 12 x BertLayer(\n",
              "          (attention): BertAttention(\n",
              "            (self): BertSdpaSelfAttention(\n",
              "              (query): Linear(in_features=768, out_features=768, bias=True)\n",
              "              (key): Linear(in_features=768, out_features=768, bias=True)\n",
              "              (value): Linear(in_features=768, out_features=768, bias=True)\n",
              "              (dropout): Dropout(p=0.1, inplace=False)\n",
              "            )\n",
              "            (output): BertSelfOutput(\n",
              "              (dense): Linear(in_features=768, out_features=768, bias=True)\n",
              "              (LayerNorm): LayerNorm((768,), eps=1e-12, elementwise_affine=True)\n",
              "              (dropout): Dropout(p=0.1, inplace=False)\n",
              "            )\n",
              "          )\n",
              "          (intermediate): BertIntermediate(\n",
              "            (dense): Linear(in_features=768, out_features=3072, bias=True)\n",
              "            (intermediate_act_fn): GELUActivation()\n",
              "          )\n",
              "          (output): BertOutput(\n",
              "            (dense): Linear(in_features=3072, out_features=768, bias=True)\n",
              "            (LayerNorm): LayerNorm((768,), eps=1e-12, elementwise_affine=True)\n",
              "            (dropout): Dropout(p=0.1, inplace=False)\n",
              "          )\n",
              "        )\n",
              "      )\n",
              "    )\n",
              "    (pooler): BertPooler(\n",
              "      (dense): Linear(in_features=768, out_features=768, bias=True)\n",
              "      (activation): Tanh()\n",
              "    )\n",
              "  )\n",
              "  (dropout): Dropout(p=0.1, inplace=False)\n",
              "  (classifier): Linear(in_features=768, out_features=2, bias=True)\n",
              ")"
            ]
          },
          "execution_count": 31,
          "metadata": {},
          "output_type": "execute_result"
        }
      ],
      "source": [
        "loaded_model = BertForSequenceClassification.from_pretrained('./bert_imdb_model')\n",
        "loaded_tokenizer = BertTokenizer.from_pretrained('./bert_imdb_model')\n",
        "loaded_model.to(device)\n",
        "loaded_model.eval()"
      ]
    },
    {
      "cell_type": "markdown",
      "id": "68f4c3ea",
      "metadata": {
        "id": "68f4c3ea"
      },
      "source": [
        "## Testing the Model"
      ]
    },
    {
      "cell_type": "code",
      "execution_count": 32,
      "id": "cfe26b5e",
      "metadata": {
        "colab": {
          "base_uri": "https://localhost:8080/"
        },
        "id": "cfe26b5e",
        "outputId": "54474f7a-e8b1-4355-94b1-234d067ef552"
      },
      "outputs": [
        {
          "name": "stdout",
          "output_type": "stream",
          "text": [
            "\n",
            "Test Results:\n",
            "Test Loss: 0.2334\n",
            "Test Accuracy: 93.08%\n"
          ]
        }
      ],
      "source": [
        "test_loss, test_acc = eval_model(loaded_model, test_loader)\n",
        "print(f\"\\nTest Results:\")\n",
        "print(f\"Test Loss: {test_loss:.4f}\")\n",
        "print(f\"Test Accuracy: {test_acc*100:.2f}%\")"
      ]
    },
    {
      "cell_type": "code",
      "execution_count": 33,
      "id": "0d9a9a1f",
      "metadata": {
        "id": "0d9a9a1f"
      },
      "outputs": [],
      "source": [
        "# Helper function to get all predictions and labels to make a \"Confusion Matrix\" and detailed evaluation\n",
        "def get_predictions(model, dataloader, device):\n",
        "    model.eval()\n",
        "    all_preds = []\n",
        "    all_labels = []\n",
        "\n",
        "    with torch.no_grad():\n",
        "        for batch in dataloader:\n",
        "            input_ids = batch['input_ids'].to(device)\n",
        "            attention_mask = batch['attention_mask'].to(device)\n",
        "            labels = batch['labels'].to(device)\n",
        "\n",
        "            outputs = model(input_ids=input_ids, attention_mask=attention_mask)\n",
        "            logits = outputs.logits\n",
        "            preds = torch.argmax(logits, dim=1)\n",
        "\n",
        "            all_preds.extend(preds.cpu().numpy())\n",
        "            all_labels.extend(labels.cpu().numpy())\n",
        "\n",
        "    return np.array(all_preds), np.array(all_labels)"
      ]
    },
    {
      "cell_type": "code",
      "execution_count": 34,
      "id": "0308fba2",
      "metadata": {
        "id": "0308fba2"
      },
      "outputs": [],
      "source": [
        "# Get predictions and true labels on test set\n",
        "test_preds, test_true = get_predictions(loaded_model, test_loader, device)"
      ]
    },
    {
      "cell_type": "code",
      "execution_count": 35,
      "id": "bd5fe5f6",
      "metadata": {
        "colab": {
          "base_uri": "https://localhost:8080/"
        },
        "id": "bd5fe5f6",
        "outputId": "0df98518-0826-4d8f-f298-eafce975e12d"
      },
      "outputs": [
        {
          "name": "stdout",
          "output_type": "stream",
          "text": [
            "\n",
            "Classification Report:\n",
            "              precision    recall  f1-score   support\n",
            "\n",
            "    Negative       0.94      0.93      0.93      3750\n",
            "    Positive       0.93      0.94      0.93      3750\n",
            "\n",
            "    accuracy                           0.93      7500\n",
            "   macro avg       0.93      0.93      0.93      7500\n",
            "weighted avg       0.93      0.93      0.93      7500\n",
            "\n"
          ]
        }
      ],
      "source": [
        "print(\"\\nClassification Report:\")\n",
        "print(classification_report(test_true, test_preds, target_names=[\"Negative\", \"Positive\"]))"
      ]
    },
    {
      "cell_type": "code",
      "execution_count": 36,
      "id": "d637eeb0",
      "metadata": {
        "colab": {
          "base_uri": "https://localhost:8080/",
          "height": 489
        },
        "id": "d637eeb0",
        "outputId": "f4652ed1-03a0-48bb-9163-373845483f8b"
      },
      "outputs": [
        {
          "data": {
            "text/plain": [
              "<Figure size 800x600 with 0 Axes>"
            ]
          },
          "metadata": {},
          "output_type": "display_data"
        },
        {
          "data": {
            "image/png": "[encoded data removed]",
            "text/plain": [
              "<Figure size 640x480 with 2 Axes>"
            ]
          },
          "metadata": {},
          "output_type": "display_data"
        }
      ],
      "source": [
        "# Plot confusion matrix\n",
        "cm = confusion_matrix(test_true, test_preds)\n",
        "plt.figure(figsize=(8, 6))\n",
        "disp = ConfusionMatrixDisplay(confusion_matrix=cm, display_labels=['Negative', 'Positive'])\n",
        "disp.plot(cmap='Blues')\n",
        "plt.title(\"Confusion Matrix on Test Set\")\n",
        "plt.show()"
      ]
    },
    {
      "cell_type": "markdown",
      "id": "749cd3ca",
      "metadata": {
        "id": "749cd3ca"
      },
      "source": [
        "## Prediction Function"
      ]
    },
    {
      "cell_type": "code",
      "execution_count": 9,
      "id": "ca1a518d",
      "metadata": {
        "id": "ca1a518d"
      },
      "outputs": [],
      "source": [
        "def predict_sentiment(text, model, tokenizer, device, max_len=256):\n",
        "    model.eval()\n",
        "\n",
        "    # Tokenize input\n",
        "    inputs = tokenizer(\n",
        "        text,\n",
        "        truncation=True,\n",
        "        padding='max_length',\n",
        "        max_length=max_len,\n",
        "        return_tensors=\"pt\"\n",
        "    )\n",
        "\n",
        "    input_ids = inputs['input_ids'].to(device)\n",
        "    attention_mask = inputs['attention_mask'].to(device)\n",
        "\n",
        "    # Getting the prediction\n",
        "    with torch.no_grad():\n",
        "        outputs = model(input_ids=input_ids, attention_mask=attention_mask)\n",
        "        logits = outputs.logits\n",
        "        pred_prob = torch.softmax(logits, dim=1)\n",
        "        pred_label = torch.argmax(pred_prob, dim=1).item()\n",
        "\n",
        "    sentiment = \"positive\" if pred_label == 1 else \"negative\"\n",
        "    confidence = pred_prob[0][pred_label].item()\n",
        "\n",
        "    return {\"sentiment\": sentiment, \"confidence\": confidence}"
      ]
    },
    {
      "cell_type": "code",
      "execution_count": 38,
      "id": "20147665",
      "metadata": {
        "colab": {
          "base_uri": "https://localhost:8080/"
        },
        "id": "20147665",
        "outputId": "544bae5d-2b5f-4087-a142-75ee3a48f3e4"
      },
      "outputs": [
        {
          "name": "stdout",
          "output_type": "stream",
          "text": [
            "\n",
            "Sample Predictions:\n",
            "============================================================\n",
            "Review 1: This movie was absolutely amazing! The acting was superb and the plot was engaging.\n",
            "Prediction: POSITIVE (confidence: 0.997)\n",
            "------------------------------------------------------------\n",
            "Review 2: Terrible movie. Boring plot and bad acting. Complete waste of time.\n",
            "Prediction: NEGATIVE (confidence: 0.999)\n",
            "------------------------------------------------------------\n",
            "Review 3: It was okay, nothing special but not bad either.\n",
            "Prediction: NEGATIVE (confidence: 0.603)\n",
            "------------------------------------------------------------\n",
            "Review 4: One of the best films I've ever seen! Highly recommend!\n",
            "Prediction: POSITIVE (confidence: 0.997)\n",
            "------------------------------------------------------------\n"
          ]
        }
      ],
      "source": [
        "test_reviews = [\n",
        "    \"This movie was absolutely amazing! The acting was superb and the plot was engaging.\",\n",
        "    \"Terrible movie. Boring plot and bad acting. Complete waste of time.\",\n",
        "    \"It was okay, nothing special but not bad either.\",\n",
        "    \"One of the best films I've ever seen! Highly recommend!\"\n",
        "]\n",
        "\n",
        "print(\"\\nSample Predictions:\")\n",
        "print(\"=\" * 60)\n",
        "for i, review in enumerate(test_reviews):\n",
        "    result = predict_sentiment(review, loaded_model, loaded_tokenizer, device)\n",
        "    print(f\"Review {i+1}: {review}\")\n",
        "    print(f\"Prediction: {result['sentiment'].upper()} (confidence: {result['confidence']:.3f})\")\n",
        "    print(\"-\" * 60)"
      ]
    },
    {
      "cell_type": "markdown",
      "id": "9bd4bd81",
      "metadata": {
        "id": "9bd4bd81"
      },
      "source": [
        "## Summary"
      ]
    },
    {
      "cell_type": "code",
      "execution_count": 41,
      "id": "63e8f893",
      "metadata": {
        "id": "63e8f893"
      },
      "outputs": [],
      "source": [
        "bert_results = {\n",
        "    \"Model\": \"BERT (bert-base-uncased) on IMDb Reviews\",\n",
        "    \"Train Accuracy\": f\"{train_accuracies[-1]*100:.2f}%\",\n",
        "    \"Test Accuracy\": f\"{test_acc*100:.2f}%\",\n",
        "    \"Training Time (s)\": round(bert_training_time, 2)\n",
        "}\n"
      ]
    },
    {
      "cell_type": "code",
      "execution_count": 42,
      "id": "0YtZ5gKXBHru",
      "metadata": {
        "colab": {
          "base_uri": "https://localhost:8080/"
        },
        "id": "0YtZ5gKXBHru",
        "outputId": "f3165c5d-6785-4f9e-b78c-3c34e456ee25"
      },
      "outputs": [
        {
          "data": {
            "text/plain": [
              "{'Model': 'BERT (bert-base-uncased) on IMDb Reviews',\n",
              " 'Train Accuracy': '98.33%',\n",
              " 'Test Accuracy': '93.08%',\n",
              " 'Training Time (s)': 4818.46}"
            ]
          },
          "execution_count": 42,
          "metadata": {},
          "output_type": "execute_result"
        }
      ],
      "source": [
        "bert_results"
      ]
    },
    {
      "cell_type": "markdown",
      "id": "93a6d127",
      "metadata": {},
      "source": [
        "## After Uploading Model to hugging face"
      ]
    },
    {
      "cell_type": "code",
      "execution_count": 6,
      "id": "f5084bc2",
      "metadata": {},
      "outputs": [
        {
          "name": "stdout",
          "output_type": "stream",
          "text": [
            "Using device: cpu\n"
          ]
        }
      ],
      "source": [
        "device = torch.device(\"cuda\") if torch.cuda.is_available() else torch.device(\"cpu\")\n",
        "model.to(device)\n",
        "\n",
        "print(\"Using device:\", device)"
      ]
    },
    {
      "cell_type": "code",
      "execution_count": 7,
      "id": "a9d12c5e",
      "metadata": {},
      "outputs": [],
      "source": [
        "model = BertForSequenceClassification.from_pretrained(\"tarneemalaa/bert_imdb_model\")\n",
        "tokenizer = BertTokenizer.from_pretrained(\"tarneemalaa/bert_imdb_model\")"
      ]
    },
    {
      "cell_type": "code",
      "execution_count": 10,
      "id": "17d1679d",
      "metadata": {},
      "outputs": [
        {
          "name": "stdout",
          "output_type": "stream",
          "text": [
            "\n",
            "Sample Predictions:\n",
            "============================================================\n",
            "Review 1: This movie was absolutely amazing! The acting was superb and the plot was engaging.\n",
            "Prediction: POSITIVE (confidence: 0.997)\n",
            "------------------------------------------------------------\n",
            "Review 2: Terrible movie. Boring plot and bad acting. Complete waste of time.\n",
            "Prediction: NEGATIVE (confidence: 0.999)\n",
            "------------------------------------------------------------\n",
            "Review 3: It was okay, nothing special but not bad either.\n",
            "Prediction: NEGATIVE (confidence: 0.603)\n",
            "------------------------------------------------------------\n",
            "Review 4: One of the best films I've ever seen! Highly recommend!\n",
            "Prediction: POSITIVE (confidence: 0.997)\n",
            "------------------------------------------------------------\n"
          ]
        }
      ],
      "source": [
        "test_reviews = [\n",
        "    \"This movie was absolutely amazing! The acting was superb and the plot was engaging.\",\n",
        "    \"Terrible movie. Boring plot and bad acting. Complete waste of time.\",\n",
        "    \"It was okay, nothing special but not bad either.\",\n",
        "    \"One of the best films I've ever seen! Highly recommend!\"\n",
        "]\n",
        "\n",
        "print(\"\\nSample Predictions:\")\n",
        "print(\"=\" * 60)\n",
        "for i, review in enumerate(test_reviews):\n",
        "    result = predict_sentiment(review, model, tokenizer, device)\n",
        "    print(f\"Review {i+1}: {review}\")\n",
        "    print(f\"Prediction: {result['sentiment'].upper()} (confidence: {result['confidence']:.3f})\")\n",
        "    print(\"-\" * 60)"
      ]
    }
  ],
  "metadata": {
    "accelerator": "GPU",
    "colab": {
      "gpuType": "T4",
      "provenance": []
    },
    "kernelspec": {
      "display_name": "NLP",
      "language": "python",
      "name": "python3"
    },
    "language_info": {
      "codemirror_mode": {
        "name": "ipython",
        "version": 3
      },
      "file_extension": ".py",
      "mimetype": "text/x-python",
      "name": "python",
      "nbconvert_exporter": "python",
      "pygments_lexer": "ipython3",
      "version": "3.12.5"
    }
  },
  "nbformat": 4,
  "nbformat_minor": 5
}
