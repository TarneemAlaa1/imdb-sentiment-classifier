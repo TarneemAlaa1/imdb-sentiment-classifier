{
 "cells": [
  {
   "cell_type": "markdown",
   "id": "75dc7dc5",
   "metadata": {},
   "source": [
    "# IMDb Sentiment Classifier — SVM, Naive Bayes, Random Forest\n",
    "This notebook builds and evaluates multiple classic machine learning models on the IMDb movie review dataset using TF-IDF features."
   ]
  },
  {
   "cell_type": "markdown",
   "id": "54721ab8",
   "metadata": {},
   "source": [
    "### Objectives:\n",
    "- Load the cleaned dataset and TF-IDF features\n",
    "- Train and evaluate:\n",
    "  - Support Vector Machine (SVM)\n",
    "  - Multinomial Naive Bayes (NB)\n",
    "  - Random Forest Classifier (RF)\n",
    "- Compare their performance with Logistic Regression"
   ]
  },
  {
   "cell_type": "markdown",
   "id": "5a2c3cb7",
   "metadata": {},
   "source": [
    "## Imports"
   ]
  },
  {
   "cell_type": "code",
   "execution_count": 1,
   "id": "ce15d2c1",
   "metadata": {},
   "outputs": [],
   "source": [
    "import pandas as pd\n",
    "import numpy as np\n",
    "import seaborn as sns\n",
    "import matplotlib.pyplot as plt\n",
    "import time\n",
    "\n",
    "from sklearn.model_selection import train_test_split\n",
    "from sklearn.feature_extraction.text import TfidfVectorizer\n",
    "from sklearn.metrics import accuracy_score, confusion_matrix, ConfusionMatrixDisplay, classification_report\n",
    "from sklearn.svm import LinearSVC\n",
    "from sklearn.naive_bayes import MultinomialNB\n",
    "from sklearn.ensemble import RandomForestClassifier"
   ]
  },
  {
   "cell_type": "markdown",
   "id": "6f057926",
   "metadata": {},
   "source": [
    "## Load Dataset & Prepare it"
   ]
  },
  {
   "cell_type": "code",
   "execution_count": 2,
   "id": "7d60b880",
   "metadata": {},
   "outputs": [
    {
     "data": {
      "text/html": [
       "<div>\n",
       "<style scoped>\n",
       "    .dataframe tbody tr th:only-of-type {\n",
       "        vertical-align: middle;\n",
       "    }\n",
       "\n",
       "    .dataframe tbody tr th {\n",
       "        vertical-align: top;\n",
       "    }\n",
       "\n",
       "    .dataframe thead th {\n",
       "        text-align: right;\n",
       "    }\n",
       "</style>\n",
       "<table border=\"1\" class=\"dataframe\">\n",
       "  <thead>\n",
       "    <tr style=\"text-align: right;\">\n",
       "      <th></th>\n",
       "      <th>clean_review</th>\n",
       "      <th>sentiment</th>\n",
       "    </tr>\n",
       "  </thead>\n",
       "  <tbody>\n",
       "    <tr>\n",
       "      <th>0</th>\n",
       "      <td>one reviewers mentioned watching oz episode ho...</td>\n",
       "      <td>positive</td>\n",
       "    </tr>\n",
       "    <tr>\n",
       "      <th>1</th>\n",
       "      <td>wonderful little production filming technique ...</td>\n",
       "      <td>positive</td>\n",
       "    </tr>\n",
       "    <tr>\n",
       "      <th>2</th>\n",
       "      <td>thought wonderful way spend time hot summer we...</td>\n",
       "      <td>positive</td>\n",
       "    </tr>\n",
       "    <tr>\n",
       "      <th>3</th>\n",
       "      <td>basically family little boy jake thinks zombie...</td>\n",
       "      <td>negative</td>\n",
       "    </tr>\n",
       "    <tr>\n",
       "      <th>4</th>\n",
       "      <td>petter mattei love time money visually stunnin...</td>\n",
       "      <td>positive</td>\n",
       "    </tr>\n",
       "  </tbody>\n",
       "</table>\n",
       "</div>"
      ],
      "text/plain": [
       "                                        clean_review sentiment\n",
       "0  one reviewers mentioned watching oz episode ho...  positive\n",
       "1  wonderful little production filming technique ...  positive\n",
       "2  thought wonderful way spend time hot summer we...  positive\n",
       "3  basically family little boy jake thinks zombie...  negative\n",
       "4  petter mattei love time money visually stunnin...  positive"
      ]
     },
     "execution_count": 2,
     "metadata": {},
     "output_type": "execute_result"
    }
   ],
   "source": [
    "# Load the cleaned data that we did in 01_eda_preprocessing.ipynb\n",
    "imdb_data_df = pd.read_csv('../data/imdb_clean.csv')\n",
    "imdb_data_df.head()"
   ]
  },
  {
   "cell_type": "code",
   "execution_count": 3,
   "id": "c0b38257",
   "metadata": {},
   "outputs": [
    {
     "data": {
      "text/html": [
       "<div>\n",
       "<style scoped>\n",
       "    .dataframe tbody tr th:only-of-type {\n",
       "        vertical-align: middle;\n",
       "    }\n",
       "\n",
       "    .dataframe tbody tr th {\n",
       "        vertical-align: top;\n",
       "    }\n",
       "\n",
       "    .dataframe thead th {\n",
       "        text-align: right;\n",
       "    }\n",
       "</style>\n",
       "<table border=\"1\" class=\"dataframe\">\n",
       "  <thead>\n",
       "    <tr style=\"text-align: right;\">\n",
       "      <th></th>\n",
       "      <th>clean_review</th>\n",
       "      <th>sentiment</th>\n",
       "      <th>label</th>\n",
       "    </tr>\n",
       "  </thead>\n",
       "  <tbody>\n",
       "    <tr>\n",
       "      <th>0</th>\n",
       "      <td>one reviewers mentioned watching oz episode ho...</td>\n",
       "      <td>positive</td>\n",
       "      <td>1</td>\n",
       "    </tr>\n",
       "    <tr>\n",
       "      <th>1</th>\n",
       "      <td>wonderful little production filming technique ...</td>\n",
       "      <td>positive</td>\n",
       "      <td>1</td>\n",
       "    </tr>\n",
       "    <tr>\n",
       "      <th>2</th>\n",
       "      <td>thought wonderful way spend time hot summer we...</td>\n",
       "      <td>positive</td>\n",
       "      <td>1</td>\n",
       "    </tr>\n",
       "    <tr>\n",
       "      <th>3</th>\n",
       "      <td>basically family little boy jake thinks zombie...</td>\n",
       "      <td>negative</td>\n",
       "      <td>0</td>\n",
       "    </tr>\n",
       "    <tr>\n",
       "      <th>4</th>\n",
       "      <td>petter mattei love time money visually stunnin...</td>\n",
       "      <td>positive</td>\n",
       "      <td>1</td>\n",
       "    </tr>\n",
       "    <tr>\n",
       "      <th>...</th>\n",
       "      <td>...</td>\n",
       "      <td>...</td>\n",
       "      <td>...</td>\n",
       "    </tr>\n",
       "    <tr>\n",
       "      <th>49995</th>\n",
       "      <td>thought movie right good job creative original...</td>\n",
       "      <td>positive</td>\n",
       "      <td>1</td>\n",
       "    </tr>\n",
       "    <tr>\n",
       "      <th>49996</th>\n",
       "      <td>bad plot bad dialogue bad acting idiotic direc...</td>\n",
       "      <td>negative</td>\n",
       "      <td>0</td>\n",
       "    </tr>\n",
       "    <tr>\n",
       "      <th>49997</th>\n",
       "      <td>catholic taught parochial elementary schools n...</td>\n",
       "      <td>negative</td>\n",
       "      <td>0</td>\n",
       "    </tr>\n",
       "    <tr>\n",
       "      <th>49998</th>\n",
       "      <td>going disagree previous comment side maltin on...</td>\n",
       "      <td>negative</td>\n",
       "      <td>0</td>\n",
       "    </tr>\n",
       "    <tr>\n",
       "      <th>49999</th>\n",
       "      <td>one expects star trek movies high art fans exp...</td>\n",
       "      <td>negative</td>\n",
       "      <td>0</td>\n",
       "    </tr>\n",
       "  </tbody>\n",
       "</table>\n",
       "<p>50000 rows × 3 columns</p>\n",
       "</div>"
      ],
      "text/plain": [
       "                                            clean_review sentiment  label\n",
       "0      one reviewers mentioned watching oz episode ho...  positive      1\n",
       "1      wonderful little production filming technique ...  positive      1\n",
       "2      thought wonderful way spend time hot summer we...  positive      1\n",
       "3      basically family little boy jake thinks zombie...  negative      0\n",
       "4      petter mattei love time money visually stunnin...  positive      1\n",
       "...                                                  ...       ...    ...\n",
       "49995  thought movie right good job creative original...  positive      1\n",
       "49996  bad plot bad dialogue bad acting idiotic direc...  negative      0\n",
       "49997  catholic taught parochial elementary schools n...  negative      0\n",
       "49998  going disagree previous comment side maltin on...  negative      0\n",
       "49999  one expects star trek movies high art fans exp...  negative      0\n",
       "\n",
       "[50000 rows x 3 columns]"
      ]
     },
     "execution_count": 3,
     "metadata": {},
     "output_type": "execute_result"
    }
   ],
   "source": [
    "# Encoding labels to be 0 & 1 such that 1 represents positive and 0 represents negative\n",
    "imdb_data_df['label'] = imdb_data_df['sentiment'].map({'positive':1, 'negative':0})\n",
    "imdb_data_df"
   ]
  },
  {
   "cell_type": "code",
   "execution_count": 4,
   "id": "58acfb4f",
   "metadata": {},
   "outputs": [
    {
     "name": "stdout",
     "output_type": "stream",
     "text": [
      "Feature: one reviewers mentioned watching oz episode hooked right exactly happened first thing struck oz brutality unflinching scenes violence set right word go trust show faint hearted timid show pulls punches regards drugs sex violence hardcore classic use word called oz nickname given oswald maximum security state penitentary focuses mainly emerald city experimental section prison cells glass fronts face inwards privacy high agenda em city home many aryans muslims gangstas latinos christians italians irish scuffles death stares dodgy dealings shady agreements never far away would say main appeal show due fact goes shows dare forget pretty pictures painted mainstream audiences forget charm forget romance oz mess around first episode ever saw struck nasty surreal say ready watched developed taste oz got accustomed high levels graphic violence violence injustice crooked guards sold nickel inmates kill order get away well mannered middle class inmates turned prison bitches due lack street skills prison experience watching oz may become comfortable uncomfortable viewing thats get touch darker side\n",
      "Label: 1\n"
     ]
    }
   ],
   "source": [
    "# Setting the Features and labels to X and y\n",
    "X = imdb_data_df['clean_review']\n",
    "y = imdb_data_df['label']\n",
    "\n",
    "# Showing an example\n",
    "print(\"Feature:\", X[0])\n",
    "print(\"Label:\", y[0])"
   ]
  },
  {
   "cell_type": "code",
   "execution_count": 5,
   "id": "69d061e3",
   "metadata": {},
   "outputs": [
    {
     "name": "stdout",
     "output_type": "stream",
     "text": [
      "Number of Training Samples: 40000\n",
      "Number of Testing Samples: 10000\n"
     ]
    }
   ],
   "source": [
    "# Splitting the data to Train-Test Split to be 80% Training data and 20% Testing data\n",
    "# We set stratify to keep the label distribution balanced in both sets to ensure no bias\n",
    "X_train, X_test, y_train, y_test = train_test_split(X, y, test_size=0.2, stratify=y, random_state=42)\n",
    "\n",
    "print(\"Number of Training Samples:\", len(X_train))\n",
    "print(\"Number of Testing Samples:\", len(X_test))"
   ]
  },
  {
   "cell_type": "markdown",
   "id": "f8b613b9",
   "metadata": {},
   "source": [
    "## Feature Extraction Using TF-IDF\n",
    "We use TF-IDF as in the previous notebook (02_vectorization_logreg) it showed that using TF-IDF is better than CountVectorizer for our data"
   ]
  },
  {
   "cell_type": "code",
   "execution_count": 6,
   "id": "34cf98e2",
   "metadata": {},
   "outputs": [
    {
     "name": "stdout",
     "output_type": "stream",
     "text": [
      "TF-IDF train shape: (40000, 10000)\n",
      "TF-IDF test shape: (10000, 10000)\n"
     ]
    }
   ],
   "source": [
    "# Initializing the TF-IDF Vectorizer\n",
    "tfidf = TfidfVectorizer(max_features=10000, ngram_range=(1,2))\n",
    "\n",
    "# We apply to train data to learn vocabulary & computes TF-IDF values for train set\n",
    "X_train_tfidf = tfidf.fit_transform(X_train)\n",
    "\n",
    "# We apply same vocabulary & weights to the test set\n",
    "X_test_tfidf = tfidf.transform(X_test)\n",
    "\n",
    "print(\"TF-IDF train shape:\", X_train_tfidf.shape)\n",
    "print(\"TF-IDF test shape:\", X_test_tfidf.shape)"
   ]
  },
  {
   "cell_type": "markdown",
   "id": "f5398c0c",
   "metadata": {},
   "source": [
    "### Visualize TF-IDF"
   ]
  },
  {
   "cell_type": "code",
   "execution_count": 7,
   "id": "ca0bd366",
   "metadata": {},
   "outputs": [
    {
     "data": {
      "text/html": [
       "<div>\n",
       "<style scoped>\n",
       "    .dataframe tbody tr th:only-of-type {\n",
       "        vertical-align: middle;\n",
       "    }\n",
       "\n",
       "    .dataframe tbody tr th {\n",
       "        vertical-align: top;\n",
       "    }\n",
       "\n",
       "    .dataframe thead th {\n",
       "        text-align: right;\n",
       "    }\n",
       "</style>\n",
       "<table border=\"1\" class=\"dataframe\">\n",
       "  <thead>\n",
       "    <tr style=\"text-align: right;\">\n",
       "      <th></th>\n",
       "      <th>term</th>\n",
       "      <th>score</th>\n",
       "    </tr>\n",
       "  </thead>\n",
       "  <tbody>\n",
       "    <tr>\n",
       "      <th>5682</th>\n",
       "      <td>movie</td>\n",
       "      <td>0.048938</td>\n",
       "    </tr>\n",
       "    <tr>\n",
       "      <th>3079</th>\n",
       "      <td>film</td>\n",
       "      <td>0.042130</td>\n",
       "    </tr>\n",
       "    <tr>\n",
       "      <th>6229</th>\n",
       "      <td>one</td>\n",
       "      <td>0.027954</td>\n",
       "    </tr>\n",
       "    <tr>\n",
       "      <th>4958</th>\n",
       "      <td>like</td>\n",
       "      <td>0.023682</td>\n",
       "    </tr>\n",
       "    <tr>\n",
       "      <th>3723</th>\n",
       "      <td>good</td>\n",
       "      <td>0.020860</td>\n",
       "    </tr>\n",
       "    <tr>\n",
       "      <th>7144</th>\n",
       "      <td>really</td>\n",
       "      <td>0.017681</td>\n",
       "    </tr>\n",
       "    <tr>\n",
       "      <th>8455</th>\n",
       "      <td>story</td>\n",
       "      <td>0.017563</td>\n",
       "    </tr>\n",
       "    <tr>\n",
       "      <th>8985</th>\n",
       "      <td>time</td>\n",
       "      <td>0.017512</td>\n",
       "    </tr>\n",
       "    <tr>\n",
       "      <th>9875</th>\n",
       "      <td>would</td>\n",
       "      <td>0.017479</td>\n",
       "    </tr>\n",
       "    <tr>\n",
       "      <th>7770</th>\n",
       "      <td>see</td>\n",
       "      <td>0.017246</td>\n",
       "    </tr>\n",
       "    <tr>\n",
       "      <th>2706</th>\n",
       "      <td>even</td>\n",
       "      <td>0.017110</td>\n",
       "    </tr>\n",
       "    <tr>\n",
       "      <th>626</th>\n",
       "      <td>bad</td>\n",
       "      <td>0.016477</td>\n",
       "    </tr>\n",
       "    <tr>\n",
       "      <th>3821</th>\n",
       "      <td>great</td>\n",
       "      <td>0.015670</td>\n",
       "    </tr>\n",
       "    <tr>\n",
       "      <th>9680</th>\n",
       "      <td>well</td>\n",
       "      <td>0.015644</td>\n",
       "    </tr>\n",
       "    <tr>\n",
       "      <th>6526</th>\n",
       "      <td>people</td>\n",
       "      <td>0.014566</td>\n",
       "    </tr>\n",
       "    <tr>\n",
       "      <th>5875</th>\n",
       "      <td>much</td>\n",
       "      <td>0.014463</td>\n",
       "    </tr>\n",
       "    <tr>\n",
       "      <th>5855</th>\n",
       "      <td>movies</td>\n",
       "      <td>0.014240</td>\n",
       "    </tr>\n",
       "    <tr>\n",
       "      <th>3586</th>\n",
       "      <td>get</td>\n",
       "      <td>0.014055</td>\n",
       "    </tr>\n",
       "    <tr>\n",
       "      <th>3279</th>\n",
       "      <td>first</td>\n",
       "      <td>0.013502</td>\n",
       "    </tr>\n",
       "    <tr>\n",
       "      <th>270</th>\n",
       "      <td>also</td>\n",
       "      <td>0.013348</td>\n",
       "    </tr>\n",
       "    <tr>\n",
       "      <th>9604</th>\n",
       "      <td>watch</td>\n",
       "      <td>0.013307</td>\n",
       "    </tr>\n",
       "    <tr>\n",
       "      <th>5216</th>\n",
       "      <td>made</td>\n",
       "      <td>0.013268</td>\n",
       "    </tr>\n",
       "    <tr>\n",
       "      <th>1783</th>\n",
       "      <td>could</td>\n",
       "      <td>0.012942</td>\n",
       "    </tr>\n",
       "    <tr>\n",
       "      <th>8895</th>\n",
       "      <td>think</td>\n",
       "      <td>0.012815</td>\n",
       "    </tr>\n",
       "    <tr>\n",
       "      <th>7994</th>\n",
       "      <td>show</td>\n",
       "      <td>0.012762</td>\n",
       "    </tr>\n",
       "    <tr>\n",
       "      <th>5258</th>\n",
       "      <td>make</td>\n",
       "      <td>0.012693</td>\n",
       "    </tr>\n",
       "    <tr>\n",
       "      <th>7808</th>\n",
       "      <td>seen</td>\n",
       "      <td>0.012604</td>\n",
       "    </tr>\n",
       "    <tr>\n",
       "      <th>1327</th>\n",
       "      <td>characters</td>\n",
       "      <td>0.012574</td>\n",
       "    </tr>\n",
       "    <tr>\n",
       "      <th>9634</th>\n",
       "      <td>way</td>\n",
       "      <td>0.012450</td>\n",
       "    </tr>\n",
       "    <tr>\n",
       "      <th>68</th>\n",
       "      <td>acting</td>\n",
       "      <td>0.012384</td>\n",
       "    </tr>\n",
       "  </tbody>\n",
       "</table>\n",
       "</div>"
      ],
      "text/plain": [
       "            term     score\n",
       "5682       movie  0.048938\n",
       "3079        film  0.042130\n",
       "6229         one  0.027954\n",
       "4958        like  0.023682\n",
       "3723        good  0.020860\n",
       "7144      really  0.017681\n",
       "8455       story  0.017563\n",
       "8985        time  0.017512\n",
       "9875       would  0.017479\n",
       "7770         see  0.017246\n",
       "2706        even  0.017110\n",
       "626          bad  0.016477\n",
       "3821       great  0.015670\n",
       "9680        well  0.015644\n",
       "6526      people  0.014566\n",
       "5875        much  0.014463\n",
       "5855      movies  0.014240\n",
       "3586         get  0.014055\n",
       "3279       first  0.013502\n",
       "270         also  0.013348\n",
       "9604       watch  0.013307\n",
       "5216        made  0.013268\n",
       "1783       could  0.012942\n",
       "8895       think  0.012815\n",
       "7994        show  0.012762\n",
       "5258        make  0.012693\n",
       "7808        seen  0.012604\n",
       "1327  characters  0.012574\n",
       "9634         way  0.012450\n",
       "68        acting  0.012384"
      ]
     },
     "execution_count": 7,
     "metadata": {},
     "output_type": "execute_result"
    }
   ],
   "source": [
    "# Getting the feature names\n",
    "feature_names = tfidf.get_feature_names_out()\n",
    "\n",
    "# Getting the average TF-IDF score across all\n",
    "avg_tfidf_scores = X_train_tfidf.mean(axis=0).A1 \n",
    "\n",
    "# Creating a dataframe with the term and score\n",
    "tfidf_df = pd.DataFrame({'term': feature_names, 'score': avg_tfidf_scores})\n",
    "\n",
    "# Viewing top 30 terms\n",
    "top_30_terms = tfidf_df.sort_values(by='score', ascending=False).head(30)\n",
    "top_30_terms\n"
   ]
  },
  {
   "cell_type": "code",
   "execution_count": 8,
   "id": "6d65fb09",
   "metadata": {},
   "outputs": [
    {
     "data": {
      "image/png": "[encoded data removed]",
      "text/plain": [
       "<Figure size 1200x600 with 1 Axes>"
      ]
     },
     "metadata": {},
     "output_type": "display_data"
    }
   ],
   "source": [
    "# Plotting top 30 terms\n",
    "plt.figure(figsize=(12,6))\n",
    "plt.barh(top_30_terms['term'][::-1], top_30_terms['score'][::-1])\n",
    "plt.title(\"Top 30 Terms by Avg TF-IDF Score (Train Set)\")\n",
    "plt.xlabel(\"TF-IDF Score\")\n",
    "plt.ylabel(\"Term\")\n",
    "plt.show()"
   ]
  },
  {
   "cell_type": "markdown",
   "id": "1111d6de",
   "metadata": {},
   "source": [
    "## Evaluate Model Function\n",
    "This function trains the model, predicts on the test set, and displays training/test accuracy, classification report, and confusion matrix."
   ]
  },
  {
   "cell_type": "code",
   "execution_count": 9,
   "id": "7fe54db7",
   "metadata": {},
   "outputs": [],
   "source": [
    "def evaluate_model(model, X_train, y_train, X_test, y_test, model_name=\"Model\"):\n",
    "    # Train the model\n",
    "    start = time.time()\n",
    "    model.fit(X_train, y_train)\n",
    "    end = time.time()\n",
    "    train_time = end - start\n",
    "    \n",
    "    print(f\"Training Time: {train_time:.2f} seconds\")\n",
    "    \n",
    "    # Predict on test set\n",
    "    y_pred = model.predict(X_test)\n",
    "\n",
    "    # Training Accuracy\n",
    "    train_acc = model.score(X_train_tfidf, y_train)\n",
    "    print(f\"Training Accuracy: {train_acc*100:.2f} %\")\n",
    "\n",
    "    # Accuracy\n",
    "    test_acc = accuracy_score(y_test, y_pred)\n",
    "    print(f\"{model_name} Test Accuracy: {test_acc*100:.2f}%\\n\")\n",
    "\n",
    "    # Classification Report\n",
    "    print(f\"Classification Report for {model_name}:\\n\")\n",
    "    print(classification_report(y_test, y_pred))\n",
    "\n",
    "    # Confusion Matrix\n",
    "    cm = confusion_matrix(y_test, y_pred)\n",
    "    labels = ['Negative', 'Positive']\n",
    "\n",
    "    plt.figure(figsize=(6,5))\n",
    "    sns.heatmap(cm, annot=True, fmt='d', cmap='Blues', xticklabels=labels, yticklabels=labels)\n",
    "    plt.xlabel('Predicted Label')\n",
    "    plt.ylabel('True Label')\n",
    "    plt.title(f'Confusion Matrix - {model_name}')\n",
    "    plt.show()\n",
    "\n",
    "    return {\n",
    "        \"Model\": model_name,\n",
    "        \"Train Accuracy\": train_acc,\n",
    "        \"Test Accuracy\": test_acc,\n",
    "        \"Training Time (s)\": train_time\n",
    "    }"
   ]
  },
  {
   "cell_type": "markdown",
   "id": "29a42ecc",
   "metadata": {},
   "source": [
    "## Model 1: Support Vector Machine (SVM)\n",
    "Support Vector Machine (SVM) is a powerful linear classifier that tries to find the best hyperplane that separates the data into two classes. In text classification, it works well with high-dimensional, sparse features like TF-IDF.\n",
    "\n",
    "We use LinearSVC, which is optimized for large-scale text classification."
   ]
  },
  {
   "cell_type": "code",
   "execution_count": 10,
   "id": "0f87400a",
   "metadata": {},
   "outputs": [
    {
     "name": "stdout",
     "output_type": "stream",
     "text": [
      "Training Time: 1.29 seconds\n",
      "Training Accuracy: 95.92 %\n",
      "SVM (Linear SVC) Test Accuracy: 88.99%\n",
      "\n",
      "Classification Report for SVM (Linear SVC):\n",
      "\n",
      "              precision    recall  f1-score   support\n",
      "\n",
      "           0       0.89      0.89      0.89      5000\n",
      "           1       0.89      0.89      0.89      5000\n",
      "\n",
      "    accuracy                           0.89     10000\n",
      "   macro avg       0.89      0.89      0.89     10000\n",
      "weighted avg       0.89      0.89      0.89     10000\n",
      "\n"
     ]
    },
    {
     "data": {
      "image/png": "[encoded data removed]",
      "text/plain": [
       "<Figure size 600x500 with 2 Axes>"
      ]
     },
     "metadata": {},
     "output_type": "display_data"
    }
   ],
   "source": [
    "svm_model = LinearSVC()\n",
    "svm_results = evaluate_model(svm_model, X_train_tfidf, y_train, X_test_tfidf, y_test, model_name=\"SVM (Linear SVC)\")"
   ]
  },
  {
   "cell_type": "code",
   "execution_count": 11,
   "id": "a9682342",
   "metadata": {},
   "outputs": [
    {
     "name": "stdout",
     "output_type": "stream",
     "text": [
      "Positive\n",
      "Negative\n",
      "Negative\n"
     ]
    }
   ],
   "source": [
    "def predict_sentiment(text):\n",
    "    vectorized = tfidf.transform([text])\n",
    "    prediction = svm_model.predict(vectorized)[0]\n",
    "    return \"Positive\" if prediction == 1 else \"Negative\"\n",
    "\n",
    "print(predict_sentiment(\"the movie was surprisingly amazing\"))\n",
    "print(predict_sentiment(\"this was the worst movie ever\"))\n",
    "print(predict_sentiment(\"i don't like this movie at all\"))"
   ]
  },
  {
   "cell_type": "markdown",
   "id": "90e42361",
   "metadata": {},
   "source": [
    "## Model 2: Multinomial Naive Bayes\n",
    "Naive Bayes is a probabilistic classifier based on Bayes' Theorem. It's particularly effective for text classification tasks where features represent word counts or frequencies.\n",
    "\n",
    "We use MultinomialNB, which works well with discrete word frequencies (like TF-IDF or CountVectorizer)."
   ]
  },
  {
   "cell_type": "code",
   "execution_count": 12,
   "id": "2fdb214c",
   "metadata": {},
   "outputs": [
    {
     "name": "stdout",
     "output_type": "stream",
     "text": [
      "Training Time: 0.02 seconds\n",
      "Training Accuracy: 87.91 %\n",
      "Multinomial Naive Bayes Test Accuracy: 86.76%\n",
      "\n",
      "Classification Report for Multinomial Naive Bayes:\n",
      "\n",
      "              precision    recall  f1-score   support\n",
      "\n",
      "           0       0.88      0.85      0.87      5000\n",
      "           1       0.86      0.88      0.87      5000\n",
      "\n",
      "    accuracy                           0.87     10000\n",
      "   macro avg       0.87      0.87      0.87     10000\n",
      "weighted avg       0.87      0.87      0.87     10000\n",
      "\n"
     ]
    },
    {
     "data": {
      "image/png": "[encoded data removed]",
      "text/plain": [
       "<Figure size 600x500 with 2 Axes>"
      ]
     },
     "metadata": {},
     "output_type": "display_data"
    }
   ],
   "source": [
    "nb_model = MultinomialNB()\n",
    "nb_results = evaluate_model(nb_model, X_train_tfidf, y_train, X_test_tfidf, y_test, model_name=\"Multinomial Naive Bayes\")"
   ]
  },
  {
   "cell_type": "code",
   "execution_count": 13,
   "id": "abf33682",
   "metadata": {},
   "outputs": [
    {
     "name": "stdout",
     "output_type": "stream",
     "text": [
      "Positive\n",
      "Negative\n",
      "Negative\n"
     ]
    }
   ],
   "source": [
    "def predict_sentiment(text):\n",
    "    vectorized = tfidf.transform([text])\n",
    "    prediction = nb_model.predict(vectorized)[0]\n",
    "    return \"Positive\" if prediction == 1 else \"Negative\"\n",
    "\n",
    "print(predict_sentiment(\"the movie was surprisingly amazing\"))\n",
    "print(predict_sentiment(\"this was the worst movie ever\"))\n",
    "print(predict_sentiment(\"i don't like this movie at all\"))"
   ]
  },
  {
   "cell_type": "markdown",
   "id": "b3fa42d0",
   "metadata": {},
   "source": [
    "## Model 3: Random Forest Classifier\n",
    "\n",
    "Random Forest is an ensemble learning method that builds multiple decision trees and merges them together to get more accurate and stable predictions. It's powerful, but may not perform as well as linear models in sparse high-dimensional text data."
   ]
  },
  {
   "cell_type": "code",
   "execution_count": 14,
   "id": "4ccd91b4",
   "metadata": {},
   "outputs": [
    {
     "name": "stdout",
     "output_type": "stream",
     "text": [
      "Training Time: 184.19 seconds\n",
      "Training Accuracy: 100.00 %\n",
      "Random Forest (RF) Test Accuracy: 86.01%\n",
      "\n",
      "Classification Report for Random Forest (RF):\n",
      "\n",
      "              precision    recall  f1-score   support\n",
      "\n",
      "           0       0.85      0.87      0.86      5000\n",
      "           1       0.87      0.85      0.86      5000\n",
      "\n",
      "    accuracy                           0.86     10000\n",
      "   macro avg       0.86      0.86      0.86     10000\n",
      "weighted avg       0.86      0.86      0.86     10000\n",
      "\n"
     ]
    },
    {
     "data": {
      "image/png": "[encoded data removed]",
      "text/plain": [
       "<Figure size 600x500 with 2 Axes>"
      ]
     },
     "metadata": {},
     "output_type": "display_data"
    }
   ],
   "source": [
    "rf_model = RandomForestClassifier()\n",
    "rf_results = evaluate_model(rf_model, X_train_tfidf, y_train, X_test_tfidf, y_test, model_name=\"Random Forest (RF)\")"
   ]
  },
  {
   "cell_type": "code",
   "execution_count": 15,
   "id": "e9d0fa5b",
   "metadata": {},
   "outputs": [
    {
     "name": "stdout",
     "output_type": "stream",
     "text": [
      "Positive\n",
      "Negative\n",
      "Positive\n"
     ]
    }
   ],
   "source": [
    "def predict_sentiment(text):\n",
    "    vectorized = tfidf.transform([text])\n",
    "    prediction = rf_model.predict(vectorized)[0]\n",
    "    return \"Positive\" if prediction == 1 else \"Negative\"\n",
    "\n",
    "print(predict_sentiment(\"the movie was surprisingly amazing\"))\n",
    "print(predict_sentiment(\"this was the worst movie ever\"))\n",
    "print(predict_sentiment(\"i don't like this movie at all\"))"
   ]
  },
  {
   "cell_type": "markdown",
   "id": "abf39046",
   "metadata": {},
   "source": [
    "## Summary and Comparison"
   ]
  },
  {
   "cell_type": "code",
   "execution_count": 17,
   "id": "a7007ad7",
   "metadata": {},
   "outputs": [
    {
     "data": {
      "text/html": [
       "<style type=\"text/css\">\n",
       "#T_3d396_row0_col0 {\n",
       "  background-color: #9fcae1;\n",
       "  color: #000000;\n",
       "}\n",
       "#T_3d396_row0_col1, #T_3d396_row3_col0, #T_3d396_row3_col2 {\n",
       "  background-color: #08306b;\n",
       "  color: #f1f1f1;\n",
       "}\n",
       "#T_3d396_row0_col2, #T_3d396_row2_col0, #T_3d396_row2_col2, #T_3d396_row3_col1 {\n",
       "  background-color: #f7fbff;\n",
       "  color: #000000;\n",
       "}\n",
       "#T_3d396_row1_col0 {\n",
       "  background-color: #3888c1;\n",
       "  color: #f1f1f1;\n",
       "}\n",
       "#T_3d396_row1_col1 {\n",
       "  background-color: #1b69af;\n",
       "  color: #f1f1f1;\n",
       "}\n",
       "#T_3d396_row1_col2 {\n",
       "  background-color: #f6faff;\n",
       "  color: #000000;\n",
       "}\n",
       "#T_3d396_row2_col1 {\n",
       "  background-color: #d0e2f2;\n",
       "  color: #000000;\n",
       "}\n",
       "</style>\n",
       "<table id=\"T_3d396\">\n",
       "  <thead>\n",
       "    <tr>\n",
       "      <th class=\"blank level0\" >&nbsp;</th>\n",
       "      <th id=\"T_3d396_level0_col0\" class=\"col_heading level0 col0\" >Train Accuracy</th>\n",
       "      <th id=\"T_3d396_level0_col1\" class=\"col_heading level0 col1\" >Test Accuracy</th>\n",
       "      <th id=\"T_3d396_level0_col2\" class=\"col_heading level0 col2\" >Training Time (s)</th>\n",
       "    </tr>\n",
       "    <tr>\n",
       "      <th class=\"index_name level0\" >Model</th>\n",
       "      <th class=\"blank col0\" >&nbsp;</th>\n",
       "      <th class=\"blank col1\" >&nbsp;</th>\n",
       "      <th class=\"blank col2\" >&nbsp;</th>\n",
       "    </tr>\n",
       "  </thead>\n",
       "  <tbody>\n",
       "    <tr>\n",
       "      <th id=\"T_3d396_level0_row0\" class=\"row_heading level0 row0\" >Logistic Regression</th>\n",
       "      <td id=\"T_3d396_row0_col0\" class=\"data row0 col0\" >92.40%</td>\n",
       "      <td id=\"T_3d396_row0_col1\" class=\"data row0 col1\" >89.83%</td>\n",
       "      <td id=\"T_3d396_row0_col2\" class=\"data row0 col2\" >0.58</td>\n",
       "    </tr>\n",
       "    <tr>\n",
       "      <th id=\"T_3d396_level0_row1\" class=\"row_heading level0 row1\" >SVM (Linear SVC)</th>\n",
       "      <td id=\"T_3d396_row1_col0\" class=\"data row1 col0\" >95.92%</td>\n",
       "      <td id=\"T_3d396_row1_col1\" class=\"data row1 col1\" >88.99%</td>\n",
       "      <td id=\"T_3d396_row1_col2\" class=\"data row1 col2\" >1.29</td>\n",
       "    </tr>\n",
       "    <tr>\n",
       "      <th id=\"T_3d396_level0_row2\" class=\"row_heading level0 row2\" >Multinomial Naive Bayes</th>\n",
       "      <td id=\"T_3d396_row2_col0\" class=\"data row2 col0\" >87.91%</td>\n",
       "      <td id=\"T_3d396_row2_col1\" class=\"data row2 col1\" >86.76%</td>\n",
       "      <td id=\"T_3d396_row2_col2\" class=\"data row2 col2\" >0.02</td>\n",
       "    </tr>\n",
       "    <tr>\n",
       "      <th id=\"T_3d396_level0_row3\" class=\"row_heading level0 row3\" >Random Forest (RF)</th>\n",
       "      <td id=\"T_3d396_row3_col0\" class=\"data row3 col0\" >100.00%</td>\n",
       "      <td id=\"T_3d396_row3_col1\" class=\"data row3 col1\" >86.01%</td>\n",
       "      <td id=\"T_3d396_row3_col2\" class=\"data row3 col2\" >184.19</td>\n",
       "    </tr>\n",
       "  </tbody>\n",
       "</table>\n"
      ],
      "text/plain": [
       "<pandas.io.formats.style.Styler at 0x1ba3d8a30b0>"
      ]
     },
     "execution_count": 17,
     "metadata": {},
     "output_type": "execute_result"
    }
   ],
   "source": [
    "import pandas as pd\n",
    "\n",
    "model_summary = pd.DataFrame([\n",
    "    {\"Model\": \"Logistic Regression\", \"Train Accuracy\": 0.9240, \"Test Accuracy\": 0.8983, \"Training Time (s)\": 0.58}, #From previous notebook (02_vectorization_logreg.ipynb)\n",
    "    svm_results,\n",
    "    nb_results,\n",
    "    rf_results\n",
    "])\n",
    "\n",
    "model_summary = model_summary.set_index(\"Model\").sort_values(by=\"Test Accuracy\", ascending=False)\n",
    "model_summary.style.background_gradient(cmap='Blues').format({\"Train Accuracy\": \"{:.2%}\", \"Test Accuracy\": \"{:.2%}\", \"Training Time (s)\": \"{:.2f}\"})"
   ]
  },
  {
   "cell_type": "markdown",
   "id": "76ba9d87",
   "metadata": {},
   "source": [
    "- **SVM** and **Logistic Regression** performed best with TF-IDF features, showing strong accuracy on test set.\n",
    "- **Naive Bayes** was slightly lower in performance but fast and efficient.\n",
    "- **Random Forest** underperformed slightly, which is expected due to the sparse nature of text features. While Random Forest took significantly longer to train than Naive Bayes or Logistic Regression, its performance did not justify the added computation cost for this sparse text data."
   ]
  }
 ],
 "metadata": {
  "kernelspec": {
   "display_name": "NLP",
   "language": "python",
   "name": "python3"
  },
  "language_info": {
   "codemirror_mode": {
    "name": "ipython",
    "version": 3
   },
   "file_extension": ".py",
   "mimetype": "text/x-python",
   "name": "python",
   "nbconvert_exporter": "python",
   "pygments_lexer": "ipython3",
   "version": "3.12.5"
  }
 },
 "nbformat": 4,
 "nbformat_minor": 5
}
